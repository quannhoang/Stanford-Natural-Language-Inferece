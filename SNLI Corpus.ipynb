{
 "cells": [
  {
   "cell_type": "markdown",
   "metadata": {},
   "source": [
    "# Sentences sentimental comparision using Recurrent Neural Network"
   ]
  },
  {
   "cell_type": "markdown",
   "metadata": {},
   "source": [
    "__Date:__ 04/15/2020\n",
    "<br>__Project description:__ building a simple neural network to analyze and compare the sentimental of two sentences (in English). The network takes two sentences as input and determine if two sentences are contradicting, entailing or neutral.\n",
    "<br>Data example:\n",
    "<ul>\n",
    "    <li>Sentence 1: A land rover is being driven across a river</li>\n",
    "    <li>Sentence 2: A sedan is stuck in the middle of a river</li>\n",
    "    <li>Label: Contradiction</li>\n",
    "</ul>\n",
    "\n",
    "<br>__Methodology:__ Data processing, Deep learning, natural language processing, recurrent neural network.\n",
    "<br>__Tools:__ pandas, numpy, Keras.\n",
    "<br>__Dataset:__ Standford Natural Language Inferece (SNLI) Corpus.\n",
    "<br>__Dataset copyright:__ http://nlp.stanford.edu/pubs/snli_paper.pdf\n",
    "\n",
    "\tSamuel R. Bowman, Gabor Angeli, Christopher Potts, and Christopher D. Manning. 2015.\n",
    "\tA large annotated corpus for learning natural language inference. \n",
    "\tProceedings of the 2015 Conference on Empirical Methods in Natural Language Processing (EMNLP)\n",
    "    \n",
    "<br>__Word Embedding copyright:__\n",
    "    Jeffrey Pennington, Richard Socher, and Christopher D. Manning. 2014. GloVe: Global Vectors for Word Representation."
   ]
  },
  {
   "cell_type": "markdown",
   "metadata": {},
   "source": [
    "### 1. Importing libraries"
   ]
  },
  {
   "cell_type": "code",
   "execution_count": 91,
   "metadata": {},
   "outputs": [],
   "source": [
    "import tensorflow as tf\n",
    "import pandas as pd\n",
    "import numpy as np\n",
    "import matplotlib.pyplot as plt\n",
    "from keras.preprocessing.text import text_to_word_sequence\n",
    "from keras import optimizers\n",
    "from keras.models import Sequential\n",
    "from keras.layers import Dense\n",
    "from keras.layers import LSTM\n",
    "from keras.layers import Bidirectional\n",
    "from keras.layers import Dropout, Flatten, GlobalAveragePooling1D\n",
    "from keras.layers.embeddings import Embedding\n",
    "from keras.preprocessing.sequence import pad_sequences"
   ]
  },
  {
   "cell_type": "markdown",
   "metadata": {},
   "source": [
    "### 2. Data set overview"
   ]
  },
  {
   "cell_type": "code",
   "execution_count": 3,
   "metadata": {},
   "outputs": [
    {
     "data": {
      "text/html": [
       "<div>\n",
       "<style scoped>\n",
       "    .dataframe tbody tr th:only-of-type {\n",
       "        vertical-align: middle;\n",
       "    }\n",
       "\n",
       "    .dataframe tbody tr th {\n",
       "        vertical-align: top;\n",
       "    }\n",
       "\n",
       "    .dataframe thead th {\n",
       "        text-align: right;\n",
       "    }\n",
       "</style>\n",
       "<table border=\"1\" class=\"dataframe\">\n",
       "  <thead>\n",
       "    <tr style=\"text-align: right;\">\n",
       "      <th></th>\n",
       "      <th>gold_label</th>\n",
       "      <th>sentence1_binary_parse</th>\n",
       "      <th>sentence2_binary_parse</th>\n",
       "      <th>sentence1_parse</th>\n",
       "      <th>sentence2_parse</th>\n",
       "      <th>sentence1</th>\n",
       "      <th>sentence2</th>\n",
       "      <th>captionID</th>\n",
       "      <th>pairID</th>\n",
       "      <th>label1</th>\n",
       "      <th>label2</th>\n",
       "      <th>label3</th>\n",
       "      <th>label4</th>\n",
       "      <th>label5</th>\n",
       "    </tr>\n",
       "  </thead>\n",
       "  <tbody>\n",
       "    <tr>\n",
       "      <th>0</th>\n",
       "      <td>neutral</td>\n",
       "      <td>( ( ( A person ) ( on ( a horse ) ) ) ( ( jump...</td>\n",
       "      <td>( ( A person ) ( ( is ( ( training ( his horse...</td>\n",
       "      <td>(ROOT (S (NP (NP (DT A) (NN person)) (PP (IN o...</td>\n",
       "      <td>(ROOT (S (NP (DT A) (NN person)) (VP (VBZ is) ...</td>\n",
       "      <td>A person on a horse jumps over a broken down a...</td>\n",
       "      <td>A person is training his horse for a competition.</td>\n",
       "      <td>3416050480.jpg#4</td>\n",
       "      <td>3416050480.jpg#4r1n</td>\n",
       "      <td>neutral</td>\n",
       "      <td>NaN</td>\n",
       "      <td>NaN</td>\n",
       "      <td>NaN</td>\n",
       "      <td>NaN</td>\n",
       "    </tr>\n",
       "    <tr>\n",
       "      <th>1</th>\n",
       "      <td>contradiction</td>\n",
       "      <td>( ( ( A person ) ( on ( a horse ) ) ) ( ( jump...</td>\n",
       "      <td>( ( A person ) ( ( ( ( is ( at ( a diner ) ) )...</td>\n",
       "      <td>(ROOT (S (NP (NP (DT A) (NN person)) (PP (IN o...</td>\n",
       "      <td>(ROOT (S (NP (DT A) (NN person)) (VP (VBZ is) ...</td>\n",
       "      <td>A person on a horse jumps over a broken down a...</td>\n",
       "      <td>A person is at a diner, ordering an omelette.</td>\n",
       "      <td>3416050480.jpg#4</td>\n",
       "      <td>3416050480.jpg#4r1c</td>\n",
       "      <td>contradiction</td>\n",
       "      <td>NaN</td>\n",
       "      <td>NaN</td>\n",
       "      <td>NaN</td>\n",
       "      <td>NaN</td>\n",
       "    </tr>\n",
       "    <tr>\n",
       "      <th>2</th>\n",
       "      <td>entailment</td>\n",
       "      <td>( ( ( A person ) ( on ( a horse ) ) ) ( ( jump...</td>\n",
       "      <td>( ( A person ) ( ( ( ( is outdoors ) , ) ( on ...</td>\n",
       "      <td>(ROOT (S (NP (NP (DT A) (NN person)) (PP (IN o...</td>\n",
       "      <td>(ROOT (S (NP (DT A) (NN person)) (VP (VBZ is) ...</td>\n",
       "      <td>A person on a horse jumps over a broken down a...</td>\n",
       "      <td>A person is outdoors, on a horse.</td>\n",
       "      <td>3416050480.jpg#4</td>\n",
       "      <td>3416050480.jpg#4r1e</td>\n",
       "      <td>entailment</td>\n",
       "      <td>NaN</td>\n",
       "      <td>NaN</td>\n",
       "      <td>NaN</td>\n",
       "      <td>NaN</td>\n",
       "    </tr>\n",
       "    <tr>\n",
       "      <th>3</th>\n",
       "      <td>neutral</td>\n",
       "      <td>( Children ( ( ( smiling and ) waving ) ( at c...</td>\n",
       "      <td>( They ( are ( smiling ( at ( their parents ) ...</td>\n",
       "      <td>(ROOT (NP (S (NP (NNP Children)) (VP (VBG smil...</td>\n",
       "      <td>(ROOT (S (NP (PRP They)) (VP (VBP are) (VP (VB...</td>\n",
       "      <td>Children smiling and waving at camera</td>\n",
       "      <td>They are smiling at their parents</td>\n",
       "      <td>2267923837.jpg#2</td>\n",
       "      <td>2267923837.jpg#2r1n</td>\n",
       "      <td>neutral</td>\n",
       "      <td>NaN</td>\n",
       "      <td>NaN</td>\n",
       "      <td>NaN</td>\n",
       "      <td>NaN</td>\n",
       "    </tr>\n",
       "    <tr>\n",
       "      <th>4</th>\n",
       "      <td>entailment</td>\n",
       "      <td>( Children ( ( ( smiling and ) waving ) ( at c...</td>\n",
       "      <td>( There ( ( are children ) present ) )</td>\n",
       "      <td>(ROOT (NP (S (NP (NNP Children)) (VP (VBG smil...</td>\n",
       "      <td>(ROOT (S (NP (EX There)) (VP (VBP are) (NP (NN...</td>\n",
       "      <td>Children smiling and waving at camera</td>\n",
       "      <td>There are children present</td>\n",
       "      <td>2267923837.jpg#2</td>\n",
       "      <td>2267923837.jpg#2r1e</td>\n",
       "      <td>entailment</td>\n",
       "      <td>NaN</td>\n",
       "      <td>NaN</td>\n",
       "      <td>NaN</td>\n",
       "      <td>NaN</td>\n",
       "    </tr>\n",
       "  </tbody>\n",
       "</table>\n",
       "</div>"
      ],
      "text/plain": [
       "      gold_label                             sentence1_binary_parse  \\\n",
       "0        neutral  ( ( ( A person ) ( on ( a horse ) ) ) ( ( jump...   \n",
       "1  contradiction  ( ( ( A person ) ( on ( a horse ) ) ) ( ( jump...   \n",
       "2     entailment  ( ( ( A person ) ( on ( a horse ) ) ) ( ( jump...   \n",
       "3        neutral  ( Children ( ( ( smiling and ) waving ) ( at c...   \n",
       "4     entailment  ( Children ( ( ( smiling and ) waving ) ( at c...   \n",
       "\n",
       "                              sentence2_binary_parse  \\\n",
       "0  ( ( A person ) ( ( is ( ( training ( his horse...   \n",
       "1  ( ( A person ) ( ( ( ( is ( at ( a diner ) ) )...   \n",
       "2  ( ( A person ) ( ( ( ( is outdoors ) , ) ( on ...   \n",
       "3  ( They ( are ( smiling ( at ( their parents ) ...   \n",
       "4             ( There ( ( are children ) present ) )   \n",
       "\n",
       "                                     sentence1_parse  \\\n",
       "0  (ROOT (S (NP (NP (DT A) (NN person)) (PP (IN o...   \n",
       "1  (ROOT (S (NP (NP (DT A) (NN person)) (PP (IN o...   \n",
       "2  (ROOT (S (NP (NP (DT A) (NN person)) (PP (IN o...   \n",
       "3  (ROOT (NP (S (NP (NNP Children)) (VP (VBG smil...   \n",
       "4  (ROOT (NP (S (NP (NNP Children)) (VP (VBG smil...   \n",
       "\n",
       "                                     sentence2_parse  \\\n",
       "0  (ROOT (S (NP (DT A) (NN person)) (VP (VBZ is) ...   \n",
       "1  (ROOT (S (NP (DT A) (NN person)) (VP (VBZ is) ...   \n",
       "2  (ROOT (S (NP (DT A) (NN person)) (VP (VBZ is) ...   \n",
       "3  (ROOT (S (NP (PRP They)) (VP (VBP are) (VP (VB...   \n",
       "4  (ROOT (S (NP (EX There)) (VP (VBP are) (NP (NN...   \n",
       "\n",
       "                                           sentence1  \\\n",
       "0  A person on a horse jumps over a broken down a...   \n",
       "1  A person on a horse jumps over a broken down a...   \n",
       "2  A person on a horse jumps over a broken down a...   \n",
       "3              Children smiling and waving at camera   \n",
       "4              Children smiling and waving at camera   \n",
       "\n",
       "                                           sentence2         captionID  \\\n",
       "0  A person is training his horse for a competition.  3416050480.jpg#4   \n",
       "1      A person is at a diner, ordering an omelette.  3416050480.jpg#4   \n",
       "2                  A person is outdoors, on a horse.  3416050480.jpg#4   \n",
       "3                  They are smiling at their parents  2267923837.jpg#2   \n",
       "4                         There are children present  2267923837.jpg#2   \n",
       "\n",
       "                pairID         label1 label2 label3 label4 label5  \n",
       "0  3416050480.jpg#4r1n        neutral    NaN    NaN    NaN    NaN  \n",
       "1  3416050480.jpg#4r1c  contradiction    NaN    NaN    NaN    NaN  \n",
       "2  3416050480.jpg#4r1e     entailment    NaN    NaN    NaN    NaN  \n",
       "3  2267923837.jpg#2r1n        neutral    NaN    NaN    NaN    NaN  \n",
       "4  2267923837.jpg#2r1e     entailment    NaN    NaN    NaN    NaN  "
      ]
     },
     "execution_count": 3,
     "metadata": {},
     "output_type": "execute_result"
    }
   ],
   "source": [
    "dataset = pd.read_csv('datasets/snli_1.0_train.csv') #Loading train data set\n",
    "dataset.head()"
   ]
  },
  {
   "cell_type": "markdown",
   "metadata": {},
   "source": [
    "There are many columns in this dataset, but for the scope of this project, only the following columns will be used:\n",
    "<ul>\n",
    "    <li>Gold_Label</li>\n",
    "    <li>Sentence1</li>\n",
    "    <li>Sentence2</li>\n",
    "</ul>"
   ]
  },
  {
   "cell_type": "code",
   "execution_count": 4,
   "metadata": {},
   "outputs": [
    {
     "data": {
      "text/html": [
       "<div>\n",
       "<style scoped>\n",
       "    .dataframe tbody tr th:only-of-type {\n",
       "        vertical-align: middle;\n",
       "    }\n",
       "\n",
       "    .dataframe tbody tr th {\n",
       "        vertical-align: top;\n",
       "    }\n",
       "\n",
       "    .dataframe thead th {\n",
       "        text-align: right;\n",
       "    }\n",
       "</style>\n",
       "<table border=\"1\" class=\"dataframe\">\n",
       "  <thead>\n",
       "    <tr style=\"text-align: right;\">\n",
       "      <th></th>\n",
       "      <th>gold_label</th>\n",
       "      <th>sentence1</th>\n",
       "      <th>sentence2</th>\n",
       "    </tr>\n",
       "  </thead>\n",
       "  <tbody>\n",
       "    <tr>\n",
       "      <th>0</th>\n",
       "      <td>neutral</td>\n",
       "      <td>A person on a horse jumps over a broken down a...</td>\n",
       "      <td>A person is training his horse for a competition.</td>\n",
       "    </tr>\n",
       "    <tr>\n",
       "      <th>1</th>\n",
       "      <td>contradiction</td>\n",
       "      <td>A person on a horse jumps over a broken down a...</td>\n",
       "      <td>A person is at a diner, ordering an omelette.</td>\n",
       "    </tr>\n",
       "    <tr>\n",
       "      <th>2</th>\n",
       "      <td>entailment</td>\n",
       "      <td>A person on a horse jumps over a broken down a...</td>\n",
       "      <td>A person is outdoors, on a horse.</td>\n",
       "    </tr>\n",
       "  </tbody>\n",
       "</table>\n",
       "</div>"
      ],
      "text/plain": [
       "      gold_label                                          sentence1  \\\n",
       "0        neutral  A person on a horse jumps over a broken down a...   \n",
       "1  contradiction  A person on a horse jumps over a broken down a...   \n",
       "2     entailment  A person on a horse jumps over a broken down a...   \n",
       "\n",
       "                                           sentence2  \n",
       "0  A person is training his horse for a competition.  \n",
       "1      A person is at a diner, ordering an omelette.  \n",
       "2                  A person is outdoors, on a horse.  "
      ]
     },
     "execution_count": 4,
     "metadata": {},
     "output_type": "execute_result"
    }
   ],
   "source": [
    "dataset_dropped = dataset.drop(axis=1,columns=['sentence1_binary_parse','sentence2_binary_parse','sentence1_parse','sentence2_parse','label1','label2','label3','label4','label5','captionID','pairID'])   #Dropping unused columns\n",
    "dataset_dropped.head(3)"
   ]
  },
  {
   "cell_type": "markdown",
   "metadata": {},
   "source": [
    "Checking for NaN (null) values in data set (There are 6 in this data set)"
   ]
  },
  {
   "cell_type": "code",
   "execution_count": 5,
   "metadata": {},
   "outputs": [
    {
     "data": {
      "text/plain": [
       "6"
      ]
     },
     "execution_count": 5,
     "metadata": {},
     "output_type": "execute_result"
    }
   ],
   "source": [
    "dataset_dropped.isnull().sum().sum()"
   ]
  },
  {
   "cell_type": "code",
   "execution_count": 6,
   "metadata": {},
   "outputs": [
    {
     "name": "stdout",
     "output_type": "stream",
     "text": [
      "<class 'pandas.core.frame.DataFrame'>\n",
      "RangeIndex: 550152 entries, 0 to 550151\n",
      "Data columns (total 3 columns):\n",
      " #   Column      Non-Null Count   Dtype \n",
      "---  ------      --------------   ----- \n",
      " 0   gold_label  550152 non-null  object\n",
      " 1   sentence1   550152 non-null  object\n",
      " 2   sentence2   550146 non-null  object\n",
      "dtypes: object(3)\n",
      "memory usage: 12.6+ MB\n"
     ]
    }
   ],
   "source": [
    "dataset_dropped.info()"
   ]
  },
  {
   "cell_type": "markdown",
   "metadata": {},
   "source": [
    "There are 6 rows that have null (Not a value aka NaN) in \"Sentence2\" column. These rows will need to be cleaned later in the data processing step"
   ]
  },
  {
   "cell_type": "code",
   "execution_count": 7,
   "metadata": {},
   "outputs": [
    {
     "data": {
      "text/html": [
       "<div>\n",
       "<style scoped>\n",
       "    .dataframe tbody tr th:only-of-type {\n",
       "        vertical-align: middle;\n",
       "    }\n",
       "\n",
       "    .dataframe tbody tr th {\n",
       "        vertical-align: top;\n",
       "    }\n",
       "\n",
       "    .dataframe thead th {\n",
       "        text-align: right;\n",
       "    }\n",
       "</style>\n",
       "<table border=\"1\" class=\"dataframe\">\n",
       "  <thead>\n",
       "    <tr style=\"text-align: right;\">\n",
       "      <th></th>\n",
       "      <th>gold_label</th>\n",
       "      <th>sentence1</th>\n",
       "      <th>sentence2</th>\n",
       "    </tr>\n",
       "  </thead>\n",
       "  <tbody>\n",
       "    <tr>\n",
       "      <th>count</th>\n",
       "      <td>550152</td>\n",
       "      <td>550152</td>\n",
       "      <td>550146</td>\n",
       "    </tr>\n",
       "    <tr>\n",
       "      <th>unique</th>\n",
       "      <td>4</td>\n",
       "      <td>150736</td>\n",
       "      <td>480040</td>\n",
       "    </tr>\n",
       "    <tr>\n",
       "      <th>top</th>\n",
       "      <td>entailment</td>\n",
       "      <td>A dog in a field.</td>\n",
       "      <td>A man is sleeping.</td>\n",
       "    </tr>\n",
       "    <tr>\n",
       "      <th>freq</th>\n",
       "      <td>183416</td>\n",
       "      <td>33</td>\n",
       "      <td>335</td>\n",
       "    </tr>\n",
       "  </tbody>\n",
       "</table>\n",
       "</div>"
      ],
      "text/plain": [
       "        gold_label          sentence1           sentence2\n",
       "count       550152             550152              550146\n",
       "unique           4             150736              480040\n",
       "top     entailment  A dog in a field.  A man is sleeping.\n",
       "freq        183416                 33                 335"
      ]
     },
     "execution_count": 7,
     "metadata": {},
     "output_type": "execute_result"
    }
   ],
   "source": [
    "dataset_dropped.describe()"
   ]
  },
  {
   "cell_type": "markdown",
   "metadata": {},
   "source": [
    "There are 4 unique labels in the dataset, which is not standard. There is supposed only 3 unique values: contradiction, neutral, and entailment. Lets see what is the 4th value."
   ]
  },
  {
   "cell_type": "code",
   "execution_count": 8,
   "metadata": {},
   "outputs": [
    {
     "data": {
      "text/html": [
       "<div>\n",
       "<style scoped>\n",
       "    .dataframe tbody tr th:only-of-type {\n",
       "        vertical-align: middle;\n",
       "    }\n",
       "\n",
       "    .dataframe tbody tr th {\n",
       "        vertical-align: top;\n",
       "    }\n",
       "\n",
       "    .dataframe thead th {\n",
       "        text-align: right;\n",
       "    }\n",
       "</style>\n",
       "<table border=\"1\" class=\"dataframe\">\n",
       "  <thead>\n",
       "    <tr style=\"text-align: right;\">\n",
       "      <th></th>\n",
       "      <th>gold_label</th>\n",
       "      <th>sentence1</th>\n",
       "      <th>sentence2</th>\n",
       "    </tr>\n",
       "  </thead>\n",
       "  <tbody>\n",
       "    <tr>\n",
       "      <th>145</th>\n",
       "      <td>-</td>\n",
       "      <td>A small group of church-goers watch a choir pr...</td>\n",
       "      <td>A choir performs in front of packed crowd.</td>\n",
       "    </tr>\n",
       "    <tr>\n",
       "      <th>783</th>\n",
       "      <td>-</td>\n",
       "      <td>A woman wearing a pink hat is looking at a pin...</td>\n",
       "      <td>The woman is wearing clothes.</td>\n",
       "    </tr>\n",
       "    <tr>\n",
       "      <th>1562</th>\n",
       "      <td>-</td>\n",
       "      <td>man in red canada shirt standing with three me...</td>\n",
       "      <td>Man standing with three men in army uniform ne...</td>\n",
       "    </tr>\n",
       "    <tr>\n",
       "      <th>2593</th>\n",
       "      <td>-</td>\n",
       "      <td>A man in a white jacket standing in front of a...</td>\n",
       "      <td>The man was playing crochet with the two women.</td>\n",
       "    </tr>\n",
       "    <tr>\n",
       "      <th>2881</th>\n",
       "      <td>-</td>\n",
       "      <td>A swimmer's hand is taken as he gets out of th...</td>\n",
       "      <td>The swimmer is female.</td>\n",
       "    </tr>\n",
       "    <tr>\n",
       "      <th>...</th>\n",
       "      <td>...</td>\n",
       "      <td>...</td>\n",
       "      <td>...</td>\n",
       "    </tr>\n",
       "    <tr>\n",
       "      <th>548159</th>\n",
       "      <td>-</td>\n",
       "      <td>Four people are selecting foods from the buffet.</td>\n",
       "      <td>The people are looking at the things being ser...</td>\n",
       "    </tr>\n",
       "    <tr>\n",
       "      <th>548466</th>\n",
       "      <td>-</td>\n",
       "      <td>An outdoor market vendor reaches up with a pol...</td>\n",
       "      <td>A woman prepares for her day of business by ge...</td>\n",
       "    </tr>\n",
       "    <tr>\n",
       "      <th>548920</th>\n",
       "      <td>-</td>\n",
       "      <td>One black dog chases another on grass nearby a...</td>\n",
       "      <td>There is grass on a road eventhough it snowed ...</td>\n",
       "    </tr>\n",
       "    <tr>\n",
       "      <th>549427</th>\n",
       "      <td>-</td>\n",
       "      <td>The couple pauses atop a rocky overlook.</td>\n",
       "      <td>The couple is walking on a rockky overlook.</td>\n",
       "    </tr>\n",
       "    <tr>\n",
       "      <th>549681</th>\n",
       "      <td>-</td>\n",
       "      <td>A girl is playing with toys inside of a tub of...</td>\n",
       "      <td>A girl is taking a bath.</td>\n",
       "    </tr>\n",
       "  </tbody>\n",
       "</table>\n",
       "<p>785 rows × 3 columns</p>\n",
       "</div>"
      ],
      "text/plain": [
       "       gold_label                                          sentence1  \\\n",
       "145             -  A small group of church-goers watch a choir pr...   \n",
       "783             -  A woman wearing a pink hat is looking at a pin...   \n",
       "1562            -  man in red canada shirt standing with three me...   \n",
       "2593            -  A man in a white jacket standing in front of a...   \n",
       "2881            -  A swimmer's hand is taken as he gets out of th...   \n",
       "...           ...                                                ...   \n",
       "548159          -   Four people are selecting foods from the buffet.   \n",
       "548466          -  An outdoor market vendor reaches up with a pol...   \n",
       "548920          -  One black dog chases another on grass nearby a...   \n",
       "549427          -           The couple pauses atop a rocky overlook.   \n",
       "549681          -  A girl is playing with toys inside of a tub of...   \n",
       "\n",
       "                                                sentence2  \n",
       "145            A choir performs in front of packed crowd.  \n",
       "783                         The woman is wearing clothes.  \n",
       "1562    Man standing with three men in army uniform ne...  \n",
       "2593      The man was playing crochet with the two women.  \n",
       "2881                               The swimmer is female.  \n",
       "...                                                   ...  \n",
       "548159  The people are looking at the things being ser...  \n",
       "548466  A woman prepares for her day of business by ge...  \n",
       "548920  There is grass on a road eventhough it snowed ...  \n",
       "549427        The couple is walking on a rockky overlook.  \n",
       "549681                           A girl is taking a bath.  \n",
       "\n",
       "[785 rows x 3 columns]"
      ]
     },
     "execution_count": 8,
     "metadata": {},
     "output_type": "execute_result"
    }
   ],
   "source": [
    "dataset_dropped[~dataset_dropped['gold_label'].isin(['contradiction', 'neutral','entailment'])]"
   ]
  },
  {
   "cell_type": "markdown",
   "metadata": {},
   "source": [
    "There are 785 rows that doesnt have a standard gold label. These rows will be removed later in the data processing step."
   ]
  },
  {
   "cell_type": "markdown",
   "metadata": {},
   "source": [
    "### 3. Creating data preprocessing and support functions"
   ]
  },
  {
   "cell_type": "code",
   "execution_count": 11,
   "metadata": {},
   "outputs": [],
   "source": [
    "def raw_to_X_Y_words(path):\n",
    "    ''' Input:\n",
    "            path: data set file location\n",
    "        Output:\n",
    "            X_words: a numpy array contains pairs of sentences. Each pair is list of words from two sentences.\n",
    "            Y_words: a numpy array contains labels\n",
    "    '''\n",
    "    \n",
    "    orig = pd.read_csv(path)\n",
    "    dropped = orig.drop(axis=1,columns=['sentence1_binary_parse','sentence2_binary_parse','sentence1_parse','sentence2_parse','label1','label2','label3','label4','label5',])   #Dropping unused columns\n",
    "    dropped = dropped.loc[dropped['gold_label'] != '-']   #Dropping rows without a label\n",
    "    dropped.dropna(inplace = True)   #Dropping row that is rull\n",
    "    sentences = (dropped['sentence1'] + dropped['sentence2']).to_list() #Concatenate a pair of sentences into a single sentences\n",
    "    X_words = []\n",
    "    for pair in sentences:\n",
    "        if isinstance(pair, float): #Ignoring rows that has incorrect format (in this case sometimes a row is not a string, but a float)\n",
    "            continue\n",
    "        sequence = text_to_word_sequence(pair) #Convert two-sentences-pair string into a list of words. \n",
    "        X_words.append(sequence)\n",
    "    X_words = np.asarray(X_words)\n",
    "    Y_words = dropped['gold_label'].to_list()\n",
    "    Y_words = np.asarray(Y_words)\n",
    "    return X_words, Y_words"
   ]
  },
  {
   "cell_type": "code",
   "execution_count": 62,
   "metadata": {},
   "outputs": [],
   "source": [
    "def words_to_encoded_sequences(X, Y, word_to_index):\n",
    "    ''' Input:\n",
    "            X: a numpy array contains pairs of sentences. Each pair is list of words from two sentences.\n",
    "            Y: a numpy array contains labels.\n",
    "            word_to_index: a dictionary that maps each word to its correspoding index number.\n",
    "        Output:\n",
    "            X_encoded: a numpy array contains pairs of sentences. Each pair is list of indexes of words from two sentences.\n",
    "            Y_encoded: a numpy array contains labels. Each label is a list of one-hot-encoded label.\n",
    "    '''\n",
    "    X_encoded = []\n",
    "    for pair in X:\n",
    "        current_sentence_encode = []\n",
    "        for word in pair:\n",
    "            if word in word_to_index:\n",
    "                current_sentence_encode.append(word_to_index[word]) \n",
    "            else:\n",
    "                current_sentence_encode.append(word_to_index['UNK'])\n",
    "        X_encoded.append(current_sentence_encode)\n",
    "    Y_encoded = []\n",
    "    for word in Y:\n",
    "        temp = []\n",
    "        if word == 'neutral':\n",
    "            temp = [0,1,0]\n",
    "        if word == 'contradiction':\n",
    "            temp = [1,0,0]\n",
    "        if word==  'entailment':\n",
    "            temp = [0,0,1]\n",
    "        Y_encoded.append(temp)\n",
    "    X_encoded = np.asarray(X_encoded)\n",
    "    Y_encoded = np.asarray(Y_encoded)\n",
    "    return X_encoded, Y_encoded"
   ]
  },
  {
   "cell_type": "code",
   "execution_count": 13,
   "metadata": {},
   "outputs": [],
   "source": [
    "def text_to_encoding_list(sentence):\n",
    "    sequence = text_to_word_sequence(sentence) #Convert input string into a sequence of words\n",
    "    encoding_list = []\n",
    "    for word in sequence:\n",
    "        if word in word_to_index:\n",
    "            encoding_list.append(word_to_index[word]) #For each words, append its corresponding index in encoding_list\n",
    "        else:\n",
    "            encoding_list.append(word_to_index['UNK']) #Append unknown (0) if word is not in vocabulary\n",
    "    return encoding_list"
   ]
  },
  {
   "cell_type": "code",
   "execution_count": 14,
   "metadata": {},
   "outputs": [],
   "source": [
    "def softmax(x):\n",
    "    \"\"\"Compute softmax values for each sets of scores in x.\"\"\"\n",
    "    return np.exp(x) / np.sum(np.exp(x), axis=0) "
   ]
  },
  {
   "cell_type": "markdown",
   "metadata": {},
   "source": [
    "### 4. Preprocessing data"
   ]
  },
  {
   "cell_type": "markdown",
   "metadata": {},
   "source": [
    "___4a. Loading dataset___"
   ]
  },
  {
   "cell_type": "code",
   "execution_count": 53,
   "metadata": {},
   "outputs": [],
   "source": [
    "X_train_words, Y_train_words = raw_to_X_Y_words('datasets/snli_1.0_train.csv')\n",
    "X_dev_words, Y_dev_words = raw_to_X_Y_words('datasets/snli_1.0_dev.csv')\n",
    "X_test_words, Y_test_words = raw_to_X_Y_words('datasets/snli_1.0_test.csv')"
   ]
  },
  {
   "cell_type": "code",
   "execution_count": 178,
   "metadata": {},
   "outputs": [
    {
     "data": {
      "text/plain": [
       "<BarContainer object of 3 artists>"
      ]
     },
     "execution_count": 178,
     "metadata": {},
     "output_type": "execute_result"
    },
    {
     "data": {
      "image/png": "[encoded data removed]",
      "text/plain": [
       "<Figure size 432x288 with 1 Axes>"
      ]
     },
     "metadata": {
      "needs_background": "light"
     },
     "output_type": "display_data"
    }
   ],
   "source": [
    "labels_count_dict = {'contradiction':np.count_nonzero(Y_train_words=='contradiction'),\n",
    "                'neutral':np.count_nonzero(Y_train_words=='neutral'),\n",
    "                'entailment':np.count_nonzero(Y_train_words=='entailment'),\n",
    "               }\n",
    "labels = list(labels_count_dict.keys())\n",
    "labels_count = list(labels_count_dict.values())\n",
    "plt.bar(labels,labels_count)"
   ]
  },
  {
   "cell_type": "markdown",
   "metadata": {},
   "source": [
    "The labels distribution are very balanced"
   ]
  },
  {
   "cell_type": "markdown",
   "metadata": {},
   "source": [
    "___4b. Creating word-to-index mapping dictionary___"
   ]
  },
  {
   "cell_type": "code",
   "execution_count": 54,
   "metadata": {},
   "outputs": [
    {
     "name": "stdout",
     "output_type": "stream",
     "text": [
      "Size of vocabulary: 40437\n"
     ]
    }
   ],
   "source": [
    "word_to_index = {'UNK':0}\n",
    "vocab_len = 1\n",
    "for pair in X_train_words:\n",
    "    for word in pair:\n",
    "        if word in word_to_index:\n",
    "            continue\n",
    "        else:\n",
    "            word_to_index[word] = vocab_len\n",
    "            vocab_len += 1\n",
    "print('Size of vocabulary: '+ str(len(word_to_index)))"
   ]
  },
  {
   "cell_type": "markdown",
   "metadata": {},
   "source": [
    "___4c. Formating datasets___"
   ]
  },
  {
   "cell_type": "code",
   "execution_count": 63,
   "metadata": {},
   "outputs": [
    {
     "name": "stdout",
     "output_type": "stream",
     "text": [
      "X train record count:549361\n",
      "Y train record count:549361\n",
      "X dev record count:9842\n",
      "Y dev record count:9842\n",
      "X test record count:9824\n",
      "Y test record count:9824\n"
     ]
    }
   ],
   "source": [
    "#Convert data from sequence-of-words to sequence-of-encodings\n",
    "X_train, Y_train = words_to_encoded_sequences(X_train_words, Y_train_words, word_to_index)\n",
    "X_dev, Y_dev = words_to_encoded_sequences(X_dev_words, Y_dev_words, word_to_index)\n",
    "X_test, Y_test = words_to_encoded_sequences(X_test_words, Y_test_words, word_to_index)\n",
    "print('X train record count:' + str(len(X_train)))\n",
    "print('Y train record count:' + str(len(Y_train)))\n",
    "print('X dev record count:' + str(len(X_dev)))\n",
    "print('Y dev record count:' + str(len(Y_dev)))\n",
    "print('X test record count:' + str(len(X_test)))\n",
    "print('Y test record count:' + str(len(Y_test)))"
   ]
  },
  {
   "cell_type": "code",
   "execution_count": 71,
   "metadata": {},
   "outputs": [],
   "source": [
    "#Finding the max length of sentence in training dataset\n",
    "max_sentence_len = 0\n",
    "for pair in X_train:\n",
    "    if len(pair) > max_sentence_len:\n",
    "        max_sentence_len = len(pair)\n"
   ]
  },
  {
   "cell_type": "code",
   "execution_count": 72,
   "metadata": {},
   "outputs": [],
   "source": [
    "#Pad all sentences with 0, as to make all sentences to have the same length.\n",
    "X_train = pad_sequences(X_train, maxlen = max_sentence_len)\n",
    "X_dev = pad_sequences(X_dev, maxlen = max_sentence_len)\n",
    "X_test = pad_sequences(X_test, maxlen = max_sentence_len)"
   ]
  },
  {
   "cell_type": "markdown",
   "metadata": {},
   "source": [
    "### 5. Building recurrent neural network"
   ]
  },
  {
   "cell_type": "markdown",
   "metadata": {},
   "source": [
    "<b>Note:</b>The variables (embedding depth, learning rate) and the structure of the neural network have been tunded to maximize performance, with the best knowledge and resources available at the time of implementation. The tuning process was time consuming and is not included in here."
   ]
  },
  {
   "cell_type": "code",
   "execution_count": 145,
   "metadata": {},
   "outputs": [],
   "source": [
    "embedd_depth = 20\n",
    "lr = 0.05"
   ]
  },
  {
   "cell_type": "code",
   "execution_count": 147,
   "metadata": {},
   "outputs": [
    {
     "name": "stdout",
     "output_type": "stream",
     "text": [
      "Model: \"sequential_18\"\n",
      "_________________________________________________________________\n",
      "Layer (type)                 Output Shape              Param #   \n",
      "=================================================================\n",
      "embedding_18 (Embedding)     (None, 112, 20)           808740    \n",
      "_________________________________________________________________\n",
      "bidirectional_16 (Bidirectio (None, 112, 64)           13568     \n",
      "_________________________________________________________________\n",
      "bidirectional_17 (Bidirectio (None, 64)                24832     \n",
      "_________________________________________________________________\n",
      "dropout_14 (Dropout)         (None, 64)                0         \n",
      "_________________________________________________________________\n",
      "dense_14 (Dense)             (None, 3)                 195       \n",
      "=================================================================\n",
      "Total params: 847,335\n",
      "Trainable params: 847,335\n",
      "Non-trainable params: 0\n",
      "_________________________________________________________________\n",
      "None\n"
     ]
    }
   ],
   "source": [
    "sgd = tf.compat.v1.train.MomentumOptimizer(learning_rate = lr, momentum=0.9, use_nesterov=True)\n",
    "model = Sequential()\n",
    "model.add(Embedding(vocab_len, embedd_depth, input_length = max_sentence_len))\n",
    "model.add(Bidirectional(LSTM(32, return_sequences=True)))\n",
    "model.add(Bidirectional(LSTM(32)))\n",
    "model.add(Dropout(0.2))\n",
    "model.add(Dense(3, activation='softmax'))\n",
    "model.compile(loss='categorical_crossentropy', optimizer=sgd , metrics=['accuracy'])\n",
    "print(model.summary())"
   ]
  },
  {
   "cell_type": "markdown",
   "metadata": {},
   "source": [
    "### 6. Training"
   ]
  },
  {
   "cell_type": "code",
   "execution_count": 148,
   "metadata": {},
   "outputs": [
    {
     "name": "stdout",
     "output_type": "stream",
     "text": [
      "Train on 549361 samples, validate on 9842 samples\n",
      "Epoch 1/30\n",
      "549361/549361 [==============================] - 180s 329us/step - loss: 1.0961 - accuracy: 0.3584 - val_loss: 1.0883 - val_accuracy: 0.3804\n",
      "Epoch 2/30\n",
      "549361/549361 [==============================] - 175s 318us/step - loss: 1.0470 - accuracy: 0.4406 - val_loss: 1.0097 - val_accuracy: 0.4697\n",
      "Epoch 3/30\n",
      "549361/549361 [==============================] - 175s 319us/step - loss: 0.9771 - accuracy: 0.5148 - val_loss: 0.9506 - val_accuracy: 0.5416\n",
      "Epoch 4/30\n",
      "549361/549361 [==============================] - 175s 318us/step - loss: 0.9192 - accuracy: 0.5656 - val_loss: 0.8662 - val_accuracy: 0.6077\n",
      "Epoch 5/30\n",
      "549361/549361 [==============================] - 184s 334us/step - loss: 0.8703 - accuracy: 0.6007 - val_loss: 0.8398 - val_accuracy: 0.6231\n",
      "Epoch 6/30\n",
      "549361/549361 [==============================] - 175s 319us/step - loss: 0.8452 - accuracy: 0.6165 - val_loss: 0.8214 - val_accuracy: 0.6295\n",
      "Epoch 7/30\n",
      "549361/549361 [==============================] - 175s 318us/step - loss: 0.8302 - accuracy: 0.6264 - val_loss: 0.8205 - val_accuracy: 0.6281\n",
      "Epoch 8/30\n",
      "549361/549361 [==============================] - 175s 318us/step - loss: 0.8174 - accuracy: 0.6337 - val_loss: 0.8054 - val_accuracy: 0.6384\n",
      "Epoch 9/30\n",
      "549361/549361 [==============================] - 185s 337us/step - loss: 0.8076 - accuracy: 0.6393 - val_loss: 0.8086 - val_accuracy: 0.6346\n",
      "Epoch 10/30\n",
      "549361/549361 [==============================] - 184s 335us/step - loss: 0.7988 - accuracy: 0.6451 - val_loss: 0.7978 - val_accuracy: 0.6394\n",
      "Epoch 11/30\n",
      "549361/549361 [==============================] - 176s 320us/step - loss: 0.7911 - accuracy: 0.6495 - val_loss: 0.7868 - val_accuracy: 0.6512\n",
      "Epoch 12/30\n",
      "549361/549361 [==============================] - 175s 318us/step - loss: 0.7840 - accuracy: 0.6541 - val_loss: 0.7816 - val_accuracy: 0.6496\n",
      "Epoch 13/30\n",
      "549361/549361 [==============================] - 175s 319us/step - loss: 0.7779 - accuracy: 0.6572 - val_loss: 0.7858 - val_accuracy: 0.6496\n",
      "Epoch 14/30\n",
      "549361/549361 [==============================] - 175s 318us/step - loss: 0.7719 - accuracy: 0.6612 - val_loss: 0.7771 - val_accuracy: 0.6506\n",
      "Epoch 15/30\n",
      "549361/549361 [==============================] - 175s 319us/step - loss: 0.7660 - accuracy: 0.6651 - val_loss: 0.7856 - val_accuracy: 0.6510\n",
      "Epoch 16/30\n",
      "549361/549361 [==============================] - 179s 326us/step - loss: 0.7609 - accuracy: 0.6677 - val_loss: 0.7634 - val_accuracy: 0.6623\n",
      "Epoch 17/30\n",
      "549361/549361 [==============================] - 189s 345us/step - loss: 0.7546 - accuracy: 0.6714 - val_loss: 0.7683 - val_accuracy: 0.6591\n",
      "Epoch 18/30\n",
      "549361/549361 [==============================] - 189s 344us/step - loss: 0.7501 - accuracy: 0.6741 - val_loss: 0.7597 - val_accuracy: 0.6601\n",
      "Epoch 19/30\n",
      "549361/549361 [==============================] - 176s 320us/step - loss: 0.7434 - accuracy: 0.6780 - val_loss: 0.7551 - val_accuracy: 0.6676\n",
      "Epoch 20/30\n",
      "549361/549361 [==============================] - 176s 320us/step - loss: 0.7381 - accuracy: 0.6805 - val_loss: 0.7464 - val_accuracy: 0.6724\n",
      "Epoch 21/30\n",
      "549361/549361 [==============================] - 176s 320us/step - loss: 0.7317 - accuracy: 0.6847 - val_loss: 0.7467 - val_accuracy: 0.6757\n",
      "Epoch 22/30\n",
      "549361/549361 [==============================] - 176s 320us/step - loss: 0.7259 - accuracy: 0.6880 - val_loss: 0.7414 - val_accuracy: 0.6778\n",
      "Epoch 23/30\n",
      "549361/549361 [==============================] - 186s 338us/step - loss: 0.7191 - accuracy: 0.6927 - val_loss: 0.7428 - val_accuracy: 0.6774\n",
      "Epoch 24/30\n",
      "549361/549361 [==============================] - 179s 325us/step - loss: 0.7133 - accuracy: 0.6960 - val_loss: 0.7301 - val_accuracy: 0.6818\n",
      "Epoch 25/30\n",
      "549361/549361 [==============================] - 179s 326us/step - loss: 0.7065 - accuracy: 0.6992 - val_loss: 0.7296 - val_accuracy: 0.6842\n",
      "Epoch 26/30\n",
      "549361/549361 [==============================] - 180s 328us/step - loss: 0.7010 - accuracy: 0.7029 - val_loss: 0.7239 - val_accuracy: 0.6902\n",
      "Epoch 27/30\n",
      "549361/549361 [==============================] - 180s 328us/step - loss: 0.6964 - accuracy: 0.7054 - val_loss: 0.7219 - val_accuracy: 0.6896\n",
      "Epoch 28/30\n",
      "549361/549361 [==============================] - 183s 333us/step - loss: 0.6903 - accuracy: 0.7091 - val_loss: 0.7140 - val_accuracy: 0.6950\n",
      "Epoch 29/30\n",
      "549361/549361 [==============================] - 179s 326us/step - loss: 0.6861 - accuracy: 0.7113 - val_loss: 0.7143 - val_accuracy: 0.6919\n",
      "Epoch 30/30\n",
      "549361/549361 [==============================] - 180s 327us/step - loss: 0.6810 - accuracy: 0.7143 - val_loss: 0.7142 - val_accuracy: 0.6953\n"
     ]
    }
   ],
   "source": [
    "history = model.fit(X_train, Y_train, validation_data=(X_dev, Y_dev), epochs=30, batch_size=2028)"
   ]
  },
  {
   "cell_type": "markdown",
   "metadata": {},
   "source": [
    "Visualizing training accuracy and loss"
   ]
  },
  {
   "cell_type": "code",
   "execution_count": 149,
   "metadata": {},
   "outputs": [
    {
     "data": {
      "image/png": "[encoded data removed]",
      "text/plain": [
       "<Figure size 864x360 with 2 Axes>"
      ]
     },
     "metadata": {
      "needs_background": "light"
     },
     "output_type": "display_data"
    }
   ],
   "source": [
    "def plot_history(history):\n",
    "    acc = history.history['accuracy']\n",
    "    val_acc = history.history['val_accuracy']\n",
    "    loss = history.history['loss']\n",
    "    val_loss = history.history['val_loss']\n",
    "    x = range(1, len(acc) + 1)\n",
    "\n",
    "    plt.figure(figsize=(12, 5))\n",
    "    plt.subplot(1, 2, 1)\n",
    "    plt.plot(x, acc, 'b', label='Training acc')\n",
    "    plt.plot(x, val_acc, 'r', label='Validation acc')\n",
    "    plt.title('Training and validation accuracy')\n",
    "    plt.legend()\n",
    "    plt.subplot(1, 2, 2)\n",
    "    plt.plot(x, loss, 'b', label='Training loss')\n",
    "    plt.plot(x, val_loss, 'r', label='Validation loss')\n",
    "    plt.title('Training and validation loss')\n",
    "    plt.legend()\n",
    "plot_history(history)"
   ]
  },
  {
   "cell_type": "markdown",
   "metadata": {},
   "source": [
    "Using a pretrained Embedding from Glove to increase model accuracy"
   ]
  },
  {
   "cell_type": "code",
   "execution_count": 158,
   "metadata": {},
   "outputs": [],
   "source": [
    "embedding_index={}\n",
    "embedd_depth = 100\n",
    "with open('glove.6B.100d.txt', encoding='utf8') as file:\n",
    "    for line in file:\n",
    "        values = line.split();\n",
    "        word = values[0];\n",
    "        coefs = np.array(values[1:], dtype='float32')\n",
    "        embedding_index[word]=coefs\n",
    "\n",
    "embedding_matrix=np.zeros((vocab_len, embedd_depth))\n",
    "for word, i in word_to_index.items():\n",
    "    embedding_vector = embedding_index.get(word)\n",
    "    if embedding_vector is not None:\n",
    "        embedding_matrix[i] = embedding_vector"
   ]
  },
  {
   "cell_type": "code",
   "execution_count": 180,
   "metadata": {},
   "outputs": [
    {
     "name": "stdout",
     "output_type": "stream",
     "text": [
      "Model: \"sequential_23\"\n",
      "_________________________________________________________________\n",
      "Layer (type)                 Output Shape              Param #   \n",
      "=================================================================\n",
      "embedding_23 (Embedding)     (None, 112, 100)          4043700   \n",
      "_________________________________________________________________\n",
      "bidirectional_23 (Bidirectio (None, 112, 64)           34048     \n",
      "_________________________________________________________________\n",
      "bidirectional_24 (Bidirectio (None, 64)                24832     \n",
      "_________________________________________________________________\n",
      "dropout_17 (Dropout)         (None, 64)                0         \n",
      "_________________________________________________________________\n",
      "dense_17 (Dense)             (None, 3)                 195       \n",
      "=================================================================\n",
      "Total params: 4,102,775\n",
      "Trainable params: 59,075\n",
      "Non-trainable params: 4,043,700\n",
      "_________________________________________________________________\n",
      "None\n"
     ]
    }
   ],
   "source": [
    "pre_trained_model = Sequential()\n",
    "pre_trained_model.add(Embedding(vocab_len, embedd_depth, input_length = max_sentence_len, weights=[embedding_matrix],trainable=False))\n",
    "pre_trained_model.add(Bidirectional(LSTM(32, return_sequences=True)))\n",
    "pre_trained_model.add(Bidirectional(LSTM(32)))\n",
    "pre_trained_model.add(Dropout(0.2))\n",
    "pre_trained_model.add(Dense(3, activation='softmax'))\n",
    "pre_trained_model.compile(loss='categorical_crossentropy', optimizer='adam' , metrics=['accuracy'])\n",
    "print(pre_trained_model.summary())"
   ]
  },
  {
   "cell_type": "code",
   "execution_count": 181,
   "metadata": {},
   "outputs": [
    {
     "name": "stdout",
     "output_type": "stream",
     "text": [
      "Train on 549361 samples, validate on 9842 samples\n",
      "Epoch 1/30\n",
      "549361/549361 [==============================] - 186s 338us/step - loss: 0.9573 - accuracy: 0.5329 - val_loss: 0.8803 - val_accuracy: 0.5953\n",
      "Epoch 2/30\n",
      "549361/549361 [==============================] - 178s 325us/step - loss: 0.8581 - accuracy: 0.6072 - val_loss: 0.8211 - val_accuracy: 0.6308\n",
      "Epoch 3/30\n",
      "549361/549361 [==============================] - 177s 321us/step - loss: 0.8146 - accuracy: 0.6345 - val_loss: 0.7894 - val_accuracy: 0.6509\n",
      "Epoch 4/30\n",
      "549361/549361 [==============================] - 177s 322us/step - loss: 0.7873 - accuracy: 0.6514 - val_loss: 0.7663 - val_accuracy: 0.6610\n",
      "Epoch 5/30\n",
      "549361/549361 [==============================] - 179s 326us/step - loss: 0.7677 - accuracy: 0.6626 - val_loss: 0.7499 - val_accuracy: 0.6722\n",
      "Epoch 6/30\n",
      "549361/549361 [==============================] - 187s 341us/step - loss: 0.7533 - accuracy: 0.6706 - val_loss: 0.7412 - val_accuracy: 0.6774\n",
      "Epoch 7/30\n",
      "549361/549361 [==============================] - 188s 342us/step - loss: 0.7398 - accuracy: 0.6782 - val_loss: 0.7274 - val_accuracy: 0.6848\n",
      "Epoch 8/30\n",
      "549361/549361 [==============================] - 187s 341us/step - loss: 0.7261 - accuracy: 0.6860 - val_loss: 0.7151 - val_accuracy: 0.6904\n",
      "Epoch 9/30\n",
      "549361/549361 [==============================] - 189s 345us/step - loss: 0.7134 - accuracy: 0.6935 - val_loss: 0.7034 - val_accuracy: 0.6965\n",
      "Epoch 10/30\n",
      "549361/549361 [==============================] - 191s 347us/step - loss: 0.7026 - accuracy: 0.6998 - val_loss: 0.6924 - val_accuracy: 0.7031\n",
      "Epoch 11/30\n",
      "549361/549361 [==============================] - 192s 350us/step - loss: 0.6901 - accuracy: 0.7066 - val_loss: 0.6889 - val_accuracy: 0.7044\n",
      "Epoch 12/30\n",
      "549361/549361 [==============================] - 186s 339us/step - loss: 0.6829 - accuracy: 0.7108 - val_loss: 0.6778 - val_accuracy: 0.7112\n",
      "Epoch 13/30\n",
      "549361/549361 [==============================] - 183s 334us/step - loss: 0.6751 - accuracy: 0.7142 - val_loss: 0.6715 - val_accuracy: 0.7132\n",
      "Epoch 14/30\n",
      "549361/549361 [==============================] - 177s 322us/step - loss: 0.6689 - accuracy: 0.7174 - val_loss: 0.6663 - val_accuracy: 0.7146\n",
      "Epoch 15/30\n",
      "549361/549361 [==============================] - 176s 321us/step - loss: 0.6626 - accuracy: 0.7205 - val_loss: 0.6595 - val_accuracy: 0.7211\n",
      "Epoch 16/30\n",
      "549361/549361 [==============================] - 176s 321us/step - loss: 0.6575 - accuracy: 0.7231 - val_loss: 0.6569 - val_accuracy: 0.7201\n",
      "Epoch 17/30\n",
      "549361/549361 [==============================] - 185s 337us/step - loss: 0.6521 - accuracy: 0.7261 - val_loss: 0.6542 - val_accuracy: 0.7202\n",
      "Epoch 18/30\n",
      "549361/549361 [==============================] - 191s 347us/step - loss: 0.6483 - accuracy: 0.7276 - val_loss: 0.6478 - val_accuracy: 0.7233\n",
      "Epoch 19/30\n",
      "549361/549361 [==============================] - 192s 349us/step - loss: 0.6433 - accuracy: 0.7303 - val_loss: 0.6426 - val_accuracy: 0.7245\n",
      "Epoch 20/30\n",
      "549361/549361 [==============================] - 192s 350us/step - loss: 0.6385 - accuracy: 0.7323 - val_loss: 0.6433 - val_accuracy: 0.7278\n",
      "Epoch 21/30\n",
      "549361/549361 [==============================] - 182s 332us/step - loss: 0.6344 - accuracy: 0.7344 - val_loss: 0.6490 - val_accuracy: 0.7251\n",
      "Epoch 22/30\n",
      "549361/549361 [==============================] - 178s 324us/step - loss: 0.6311 - accuracy: 0.7363 - val_loss: 0.6321 - val_accuracy: 0.7303\n",
      "Epoch 23/30\n",
      "549361/549361 [==============================] - 177s 322us/step - loss: 0.6277 - accuracy: 0.7380 - val_loss: 0.6368 - val_accuracy: 0.7283\n",
      "Epoch 24/30\n",
      "549361/549361 [==============================] - 177s 321us/step - loss: 0.6238 - accuracy: 0.7400 - val_loss: 0.6304 - val_accuracy: 0.7340\n",
      "Epoch 25/30\n",
      "549361/549361 [==============================] - 179s 327us/step - loss: 0.6207 - accuracy: 0.7411 - val_loss: 0.6212 - val_accuracy: 0.7332\n",
      "Epoch 26/30\n",
      "549361/549361 [==============================] - 187s 340us/step - loss: 0.6168 - accuracy: 0.7434 - val_loss: 0.6228 - val_accuracy: 0.7343\n",
      "Epoch 27/30\n",
      "549361/549361 [==============================] - 188s 343us/step - loss: 0.6144 - accuracy: 0.7443 - val_loss: 0.6207 - val_accuracy: 0.7377\n",
      "Epoch 28/30\n",
      "549361/549361 [==============================] - 177s 323us/step - loss: 0.6121 - accuracy: 0.7455 - val_loss: 0.6167 - val_accuracy: 0.7389\n",
      "Epoch 29/30\n",
      "549361/549361 [==============================] - 179s 326us/step - loss: 0.6088 - accuracy: 0.7471 - val_loss: 0.6149 - val_accuracy: 0.7429\n",
      "Epoch 30/30\n",
      "549361/549361 [==============================] - 176s 321us/step - loss: 0.6052 - accuracy: 0.7490 - val_loss: 0.6147 - val_accuracy: 0.7399\n"
     ]
    }
   ],
   "source": [
    "history1 = pre_trained_model.fit(X_train, Y_train, validation_data=(X_dev, Y_dev), epochs=30, batch_size=2028)"
   ]
  },
  {
   "cell_type": "code",
   "execution_count": 182,
   "metadata": {},
   "outputs": [
    {
     "data": {
      "image/png": "[encoded data removed]",
      "text/plain": [
       "<Figure size 864x360 with 2 Axes>"
      ]
     },
     "metadata": {
      "needs_background": "light"
     },
     "output_type": "display_data"
    }
   ],
   "source": [
    "plot_history(history1)"
   ]
  },
  {
   "cell_type": "markdown",
   "metadata": {},
   "source": [
    "### 7. Model evaluation"
   ]
  },
  {
   "cell_type": "code",
   "execution_count": 183,
   "metadata": {},
   "outputs": [
    {
     "name": "stdout",
     "output_type": "stream",
     "text": [
      "9824/9824 [==============================] - 2s 243us/step\n",
      "9824/9824 [==============================] - 3s 258us/step\n"
     ]
    }
   ],
   "source": [
    "#Evaluate the two model using Test data\n",
    "results1 = model.evaluate(X_test, Y_test, batch_size = 1024)\n",
    "results2 = pre_trained_model.evaluate(X_test, Y_test, batch_size = 1024)"
   ]
  },
  {
   "cell_type": "code",
   "execution_count": 185,
   "metadata": {},
   "outputs": [
    {
     "name": "stdout",
     "output_type": "stream",
     "text": [
      "My model accuracy on Test data: 69.69%\n",
      "Model with pretrained Embedding accuracy on Test data: 74.12%\n"
     ]
    }
   ],
   "source": [
    "print('My model accuracy on Test data: ''%.2f' % (results1[1]*100)+ '%')\n",
    "print('Model with pretrained Embedding accuracy on Test data: ''%.2f' % (results2[1]*100)+ '%')"
   ]
  },
  {
   "cell_type": "markdown",
   "metadata": {},
   "source": [
    "With pre-trained Embedding, accuracy on test data improved by 4.43%!"
   ]
  },
  {
   "cell_type": "code",
   "execution_count": 194,
   "metadata": {},
   "outputs": [],
   "source": [
    "#Input random pairs of sentences to test the model\n",
    "sentence1 = 'The dog plays in the park'\n",
    "sentence2 = 'There is a dog in the park'\n",
    "\n",
    "pair1 = sentence1 + ' ' + sentence2\n",
    "encoded_pair1 = text_to_encoding_list(pair1)\n",
    "\n",
    "sentence1 = 'The child plays in the park'\n",
    "sentence2 = 'The woman crys in her house'\n",
    "pair2 = sentence1 + ' ' + sentence2\n",
    "encoded_pair2 = text_to_encoding_list(pair2)\n",
    "\n",
    "sentence1 = 'Two blond women are hugging one another'\n",
    "sentence2 = 'Some men are socializing on vacation'\n",
    "pair3 = sentence1 + ' ' + sentence2\n",
    "encoded_pair3 = text_to_encoding_list(pair3)\n",
    "\n",
    "\n",
    "encoded_pair = np.array([encoded_pair1,encoded_pair2,encoded_pair3])\n",
    "encoded_pairs = pad_sequences(encoded_pair, maxlen = max_sentence_len)\n",
    "testing = model.predict(encoded_pairs)"
   ]
  },
  {
   "cell_type": "code",
   "execution_count": 197,
   "metadata": {},
   "outputs": [
    {
     "name": "stdout",
     "output_type": "stream",
     "text": [
      "Pair 1 is:  Entailment\n",
      "Pair 2 is:  Contradiction\n",
      "Pair 3 is:  Neutral\n"
     ]
    }
   ],
   "source": [
    "label_type =['Contradiction', 'Neutral', 'Entailment']\n",
    "\n",
    "print(\"Pair 1 is: \",label_type[np.argmax(testing[0])])\n",
    "print(\"Pair 2 is: \",label_type[np.argmax(testing[1])])\n",
    "print(\"Pair 3 is: \",label_type[np.argmax(testing[2])])"
   ]
  },
  {
   "cell_type": "markdown",
   "metadata": {},
   "source": [
    "### 8. Conclusion\n",
    "The recurrent neural network was able to achieve <b>74.12%</b> accuracy with a simple structure with an embedding layer, a bidirectional long-short-term-memory layer and a drop-out layer. With more training time (epochs), the model's accuracy can definitely improved.\n",
    "The purpose of this project, is to help exploring and learning to implement a recurrent neural network with Keras, is fulfilled."
   ]
  },
  {
   "cell_type": "markdown",
   "metadata": {},
   "source": []
  }
 ],
 "metadata": {
  "kernelspec": {
   "display_name": "Python 3",
   "language": "python",
   "name": "python3"
  },
  "language_info": {
   "codemirror_mode": {
    "name": "ipython",
    "version": 3
   },
   "file_extension": ".py",
   "mimetype": "text/x-python",
   "name": "python",
   "nbconvert_exporter": "python",
   "pygments_lexer": "ipython3",
   "version": "3.6.10"
  }
 },
 "nbformat": 4,
 "nbformat_minor": 4
}
