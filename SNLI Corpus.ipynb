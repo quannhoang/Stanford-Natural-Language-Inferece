{
 "cells": [
  {
   "cell_type": "markdown",
   "metadata": {},
   "source": [
    "# Sentences sentimental comparision using Recurrent Neural Network"
   ]
  },
  {
   "cell_type": "markdown",
   "metadata": {},
   "source": [
    "__Date:__ 04/15/2020\n",
    "<br>__Project description:__ building a simple neural network to analyze and compare the sentimental of two sentences (in English). The network takes two sentences as input and determine if two sentences are contradicting, entailing or neutral.\n",
    "<br>Data example:\n",
    "<ul>\n",
    "    <li>Sentence 1: A land rover is being driven across a river</li>\n",
    "    <li>Sentence 2: A sedan is stuck in the middle of a river</li>\n",
    "    <li>Label: Contradiction</li>\n",
    "</ul>\n",
    "\n",
    "<br>__Methodology:__ Data processing, Deep learning, natural language processing, recurrent neural network.\n",
    "<br>__Tools:__ pandas, numpy, Keras.\n",
    "<br>__Dataset:__ Standford Natural Language Inferece (SNLI) Corpus.\n",
    "<br>__Dataset copyright:__ http://nlp.stanford.edu/pubs/snli_paper.pdf\n",
    "\n",
    "\tSamuel R. Bowman, Gabor Angeli, Christopher Potts, and Christopher D. Manning. 2015.\n",
    "\tA large annotated corpus for learning natural language inference. \n",
    "\tProceedings of the 2015 Conference on Empirical Methods in Natural Language Processing (EMNLP)\n"
   ]
  },
  {
   "cell_type": "markdown",
   "metadata": {},
   "source": [
    "### 1. Importing libraries"
   ]
  },
  {
   "cell_type": "code",
   "execution_count": 1,
   "metadata": {},
   "outputs": [
    {
     "name": "stderr",
     "output_type": "stream",
     "text": [
      "Using TensorFlow backend.\n"
     ]
    }
   ],
   "source": [
    "import tensorflow as tf\n",
    "import pandas as pd\n",
    "import numpy as np\n",
    "from keras.preprocessing.text import text_to_word_sequence\n",
    "from keras import optimizers\n",
    "from keras.models import Sequential\n",
    "from keras.layers import Dense\n",
    "from keras.layers import LSTM\n",
    "from keras.layers import Bidirectional\n",
    "from keras.layers import Dropout\n",
    "from keras.layers.embeddings import Embedding\n",
    "from keras.preprocessing.sequence import pad_sequences"
   ]
  },
  {
   "cell_type": "markdown",
   "metadata": {},
   "source": [
    "### 2. Data set overview"
   ]
  },
  {
   "cell_type": "code",
   "execution_count": 9,
   "metadata": {},
   "outputs": [
    {
     "data": {
      "text/html": [
       "<div>\n",
       "<style scoped>\n",
       "    .dataframe tbody tr th:only-of-type {\n",
       "        vertical-align: middle;\n",
       "    }\n",
       "\n",
       "    .dataframe tbody tr th {\n",
       "        vertical-align: top;\n",
       "    }\n",
       "\n",
       "    .dataframe thead th {\n",
       "        text-align: right;\n",
       "    }\n",
       "</style>\n",
       "<table border=\"1\" class=\"dataframe\">\n",
       "  <thead>\n",
       "    <tr style=\"text-align: right;\">\n",
       "      <th></th>\n",
       "      <th>gold_label</th>\n",
       "      <th>sentence1_binary_parse</th>\n",
       "      <th>sentence2_binary_parse</th>\n",
       "      <th>sentence1_parse</th>\n",
       "      <th>sentence2_parse</th>\n",
       "      <th>sentence1</th>\n",
       "      <th>sentence2</th>\n",
       "      <th>captionID</th>\n",
       "      <th>pairID</th>\n",
       "      <th>label1</th>\n",
       "      <th>label2</th>\n",
       "      <th>label3</th>\n",
       "      <th>label4</th>\n",
       "      <th>label5</th>\n",
       "    </tr>\n",
       "  </thead>\n",
       "  <tbody>\n",
       "    <tr>\n",
       "      <th>0</th>\n",
       "      <td>neutral</td>\n",
       "      <td>( ( ( A person ) ( on ( a horse ) ) ) ( ( jump...</td>\n",
       "      <td>( ( A person ) ( ( is ( ( training ( his horse...</td>\n",
       "      <td>(ROOT (S (NP (NP (DT A) (NN person)) (PP (IN o...</td>\n",
       "      <td>(ROOT (S (NP (DT A) (NN person)) (VP (VBZ is) ...</td>\n",
       "      <td>A person on a horse jumps over a broken down a...</td>\n",
       "      <td>A person is training his horse for a competition.</td>\n",
       "      <td>3416050480.jpg#4</td>\n",
       "      <td>3416050480.jpg#4r1n</td>\n",
       "      <td>neutral</td>\n",
       "      <td>NaN</td>\n",
       "      <td>NaN</td>\n",
       "      <td>NaN</td>\n",
       "      <td>NaN</td>\n",
       "    </tr>\n",
       "    <tr>\n",
       "      <th>1</th>\n",
       "      <td>contradiction</td>\n",
       "      <td>( ( ( A person ) ( on ( a horse ) ) ) ( ( jump...</td>\n",
       "      <td>( ( A person ) ( ( ( ( is ( at ( a diner ) ) )...</td>\n",
       "      <td>(ROOT (S (NP (NP (DT A) (NN person)) (PP (IN o...</td>\n",
       "      <td>(ROOT (S (NP (DT A) (NN person)) (VP (VBZ is) ...</td>\n",
       "      <td>A person on a horse jumps over a broken down a...</td>\n",
       "      <td>A person is at a diner, ordering an omelette.</td>\n",
       "      <td>3416050480.jpg#4</td>\n",
       "      <td>3416050480.jpg#4r1c</td>\n",
       "      <td>contradiction</td>\n",
       "      <td>NaN</td>\n",
       "      <td>NaN</td>\n",
       "      <td>NaN</td>\n",
       "      <td>NaN</td>\n",
       "    </tr>\n",
       "    <tr>\n",
       "      <th>2</th>\n",
       "      <td>entailment</td>\n",
       "      <td>( ( ( A person ) ( on ( a horse ) ) ) ( ( jump...</td>\n",
       "      <td>( ( A person ) ( ( ( ( is outdoors ) , ) ( on ...</td>\n",
       "      <td>(ROOT (S (NP (NP (DT A) (NN person)) (PP (IN o...</td>\n",
       "      <td>(ROOT (S (NP (DT A) (NN person)) (VP (VBZ is) ...</td>\n",
       "      <td>A person on a horse jumps over a broken down a...</td>\n",
       "      <td>A person is outdoors, on a horse.</td>\n",
       "      <td>3416050480.jpg#4</td>\n",
       "      <td>3416050480.jpg#4r1e</td>\n",
       "      <td>entailment</td>\n",
       "      <td>NaN</td>\n",
       "      <td>NaN</td>\n",
       "      <td>NaN</td>\n",
       "      <td>NaN</td>\n",
       "    </tr>\n",
       "    <tr>\n",
       "      <th>3</th>\n",
       "      <td>neutral</td>\n",
       "      <td>( Children ( ( ( smiling and ) waving ) ( at c...</td>\n",
       "      <td>( They ( are ( smiling ( at ( their parents ) ...</td>\n",
       "      <td>(ROOT (NP (S (NP (NNP Children)) (VP (VBG smil...</td>\n",
       "      <td>(ROOT (S (NP (PRP They)) (VP (VBP are) (VP (VB...</td>\n",
       "      <td>Children smiling and waving at camera</td>\n",
       "      <td>They are smiling at their parents</td>\n",
       "      <td>2267923837.jpg#2</td>\n",
       "      <td>2267923837.jpg#2r1n</td>\n",
       "      <td>neutral</td>\n",
       "      <td>NaN</td>\n",
       "      <td>NaN</td>\n",
       "      <td>NaN</td>\n",
       "      <td>NaN</td>\n",
       "    </tr>\n",
       "    <tr>\n",
       "      <th>4</th>\n",
       "      <td>entailment</td>\n",
       "      <td>( Children ( ( ( smiling and ) waving ) ( at c...</td>\n",
       "      <td>( There ( ( are children ) present ) )</td>\n",
       "      <td>(ROOT (NP (S (NP (NNP Children)) (VP (VBG smil...</td>\n",
       "      <td>(ROOT (S (NP (EX There)) (VP (VBP are) (NP (NN...</td>\n",
       "      <td>Children smiling and waving at camera</td>\n",
       "      <td>There are children present</td>\n",
       "      <td>2267923837.jpg#2</td>\n",
       "      <td>2267923837.jpg#2r1e</td>\n",
       "      <td>entailment</td>\n",
       "      <td>NaN</td>\n",
       "      <td>NaN</td>\n",
       "      <td>NaN</td>\n",
       "      <td>NaN</td>\n",
       "    </tr>\n",
       "  </tbody>\n",
       "</table>\n",
       "</div>"
      ],
      "text/plain": [
       "      gold_label                             sentence1_binary_parse  \\\n",
       "0        neutral  ( ( ( A person ) ( on ( a horse ) ) ) ( ( jump...   \n",
       "1  contradiction  ( ( ( A person ) ( on ( a horse ) ) ) ( ( jump...   \n",
       "2     entailment  ( ( ( A person ) ( on ( a horse ) ) ) ( ( jump...   \n",
       "3        neutral  ( Children ( ( ( smiling and ) waving ) ( at c...   \n",
       "4     entailment  ( Children ( ( ( smiling and ) waving ) ( at c...   \n",
       "\n",
       "                              sentence2_binary_parse  \\\n",
       "0  ( ( A person ) ( ( is ( ( training ( his horse...   \n",
       "1  ( ( A person ) ( ( ( ( is ( at ( a diner ) ) )...   \n",
       "2  ( ( A person ) ( ( ( ( is outdoors ) , ) ( on ...   \n",
       "3  ( They ( are ( smiling ( at ( their parents ) ...   \n",
       "4             ( There ( ( are children ) present ) )   \n",
       "\n",
       "                                     sentence1_parse  \\\n",
       "0  (ROOT (S (NP (NP (DT A) (NN person)) (PP (IN o...   \n",
       "1  (ROOT (S (NP (NP (DT A) (NN person)) (PP (IN o...   \n",
       "2  (ROOT (S (NP (NP (DT A) (NN person)) (PP (IN o...   \n",
       "3  (ROOT (NP (S (NP (NNP Children)) (VP (VBG smil...   \n",
       "4  (ROOT (NP (S (NP (NNP Children)) (VP (VBG smil...   \n",
       "\n",
       "                                     sentence2_parse  \\\n",
       "0  (ROOT (S (NP (DT A) (NN person)) (VP (VBZ is) ...   \n",
       "1  (ROOT (S (NP (DT A) (NN person)) (VP (VBZ is) ...   \n",
       "2  (ROOT (S (NP (DT A) (NN person)) (VP (VBZ is) ...   \n",
       "3  (ROOT (S (NP (PRP They)) (VP (VBP are) (VP (VB...   \n",
       "4  (ROOT (S (NP (EX There)) (VP (VBP are) (NP (NN...   \n",
       "\n",
       "                                           sentence1  \\\n",
       "0  A person on a horse jumps over a broken down a...   \n",
       "1  A person on a horse jumps over a broken down a...   \n",
       "2  A person on a horse jumps over a broken down a...   \n",
       "3              Children smiling and waving at camera   \n",
       "4              Children smiling and waving at camera   \n",
       "\n",
       "                                           sentence2         captionID  \\\n",
       "0  A person is training his horse for a competition.  3416050480.jpg#4   \n",
       "1      A person is at a diner, ordering an omelette.  3416050480.jpg#4   \n",
       "2                  A person is outdoors, on a horse.  3416050480.jpg#4   \n",
       "3                  They are smiling at their parents  2267923837.jpg#2   \n",
       "4                         There are children present  2267923837.jpg#2   \n",
       "\n",
       "                pairID         label1 label2 label3 label4 label5  \n",
       "0  3416050480.jpg#4r1n        neutral    NaN    NaN    NaN    NaN  \n",
       "1  3416050480.jpg#4r1c  contradiction    NaN    NaN    NaN    NaN  \n",
       "2  3416050480.jpg#4r1e     entailment    NaN    NaN    NaN    NaN  \n",
       "3  2267923837.jpg#2r1n        neutral    NaN    NaN    NaN    NaN  \n",
       "4  2267923837.jpg#2r1e     entailment    NaN    NaN    NaN    NaN  "
      ]
     },
     "execution_count": 9,
     "metadata": {},
     "output_type": "execute_result"
    }
   ],
   "source": [
    "dataset = pd.read_csv('datasets/snli_1.0_train.csv') #Loading train data set\n",
    "dataset.head()"
   ]
  },
  {
   "cell_type": "markdown",
   "metadata": {},
   "source": [
    "There are many columns in this dataset, but for the scope of this project, only the following columns will be used:\n",
    "<ul>\n",
    "    <li>Gold_Label</li>\n",
    "    <li>Sentence1</li>\n",
    "    <li>Sentence2</li>\n",
    "</ul>"
   ]
  },
  {
   "cell_type": "code",
   "execution_count": 10,
   "metadata": {},
   "outputs": [
    {
     "data": {
      "text/html": [
       "<div>\n",
       "<style scoped>\n",
       "    .dataframe tbody tr th:only-of-type {\n",
       "        vertical-align: middle;\n",
       "    }\n",
       "\n",
       "    .dataframe tbody tr th {\n",
       "        vertical-align: top;\n",
       "    }\n",
       "\n",
       "    .dataframe thead th {\n",
       "        text-align: right;\n",
       "    }\n",
       "</style>\n",
       "<table border=\"1\" class=\"dataframe\">\n",
       "  <thead>\n",
       "    <tr style=\"text-align: right;\">\n",
       "      <th></th>\n",
       "      <th>gold_label</th>\n",
       "      <th>sentence1</th>\n",
       "      <th>sentence2</th>\n",
       "    </tr>\n",
       "  </thead>\n",
       "  <tbody>\n",
       "    <tr>\n",
       "      <th>0</th>\n",
       "      <td>neutral</td>\n",
       "      <td>A person on a horse jumps over a broken down a...</td>\n",
       "      <td>A person is training his horse for a competition.</td>\n",
       "    </tr>\n",
       "    <tr>\n",
       "      <th>1</th>\n",
       "      <td>contradiction</td>\n",
       "      <td>A person on a horse jumps over a broken down a...</td>\n",
       "      <td>A person is at a diner, ordering an omelette.</td>\n",
       "    </tr>\n",
       "    <tr>\n",
       "      <th>2</th>\n",
       "      <td>entailment</td>\n",
       "      <td>A person on a horse jumps over a broken down a...</td>\n",
       "      <td>A person is outdoors, on a horse.</td>\n",
       "    </tr>\n",
       "  </tbody>\n",
       "</table>\n",
       "</div>"
      ],
      "text/plain": [
       "      gold_label                                          sentence1  \\\n",
       "0        neutral  A person on a horse jumps over a broken down a...   \n",
       "1  contradiction  A person on a horse jumps over a broken down a...   \n",
       "2     entailment  A person on a horse jumps over a broken down a...   \n",
       "\n",
       "                                           sentence2  \n",
       "0  A person is training his horse for a competition.  \n",
       "1      A person is at a diner, ordering an omelette.  \n",
       "2                  A person is outdoors, on a horse.  "
      ]
     },
     "execution_count": 10,
     "metadata": {},
     "output_type": "execute_result"
    }
   ],
   "source": [
    "dataset_dropped = dataset.drop(axis=1,columns=['sentence1_binary_parse','sentence2_binary_parse','sentence1_parse','sentence2_parse','label1','label2','label3','label4','label5','captionID','pairID'])   #Dropping unused columns\n",
    "dataset_dropped.head(3)"
   ]
  },
  {
   "cell_type": "markdown",
   "metadata": {},
   "source": [
    "Checking for NaN (null) values in data set (There are 6 in this data set)"
   ]
  },
  {
   "cell_type": "code",
   "execution_count": 11,
   "metadata": {},
   "outputs": [
    {
     "data": {
      "text/plain": [
       "6"
      ]
     },
     "execution_count": 11,
     "metadata": {},
     "output_type": "execute_result"
    }
   ],
   "source": [
    "dataset_dropped.isnull().sum().sum()"
   ]
  },
  {
   "cell_type": "code",
   "execution_count": 15,
   "metadata": {},
   "outputs": [
    {
     "name": "stdout",
     "output_type": "stream",
     "text": [
      "<class 'pandas.core.frame.DataFrame'>\n",
      "RangeIndex: 550152 entries, 0 to 550151\n",
      "Data columns (total 3 columns):\n",
      " #   Column      Non-Null Count   Dtype \n",
      "---  ------      --------------   ----- \n",
      " 0   gold_label  550152 non-null  object\n",
      " 1   sentence1   550152 non-null  object\n",
      " 2   sentence2   550146 non-null  object\n",
      "dtypes: object(3)\n",
      "memory usage: 12.6+ MB\n"
     ]
    }
   ],
   "source": [
    "dataset_dropped.info()"
   ]
  },
  {
   "cell_type": "markdown",
   "metadata": {},
   "source": [
    "There are 6 rows that have null (Not a value aka NaN) in \"Sentence2\" column. These rows will need to be cleaned later in the data processing step"
   ]
  },
  {
   "cell_type": "code",
   "execution_count": 16,
   "metadata": {},
   "outputs": [
    {
     "data": {
      "text/html": [
       "<div>\n",
       "<style scoped>\n",
       "    .dataframe tbody tr th:only-of-type {\n",
       "        vertical-align: middle;\n",
       "    }\n",
       "\n",
       "    .dataframe tbody tr th {\n",
       "        vertical-align: top;\n",
       "    }\n",
       "\n",
       "    .dataframe thead th {\n",
       "        text-align: right;\n",
       "    }\n",
       "</style>\n",
       "<table border=\"1\" class=\"dataframe\">\n",
       "  <thead>\n",
       "    <tr style=\"text-align: right;\">\n",
       "      <th></th>\n",
       "      <th>gold_label</th>\n",
       "      <th>sentence1</th>\n",
       "      <th>sentence2</th>\n",
       "    </tr>\n",
       "  </thead>\n",
       "  <tbody>\n",
       "    <tr>\n",
       "      <th>count</th>\n",
       "      <td>550152</td>\n",
       "      <td>550152</td>\n",
       "      <td>550146</td>\n",
       "    </tr>\n",
       "    <tr>\n",
       "      <th>unique</th>\n",
       "      <td>4</td>\n",
       "      <td>150736</td>\n",
       "      <td>480040</td>\n",
       "    </tr>\n",
       "    <tr>\n",
       "      <th>top</th>\n",
       "      <td>entailment</td>\n",
       "      <td>A dog in a field.</td>\n",
       "      <td>A man is sleeping.</td>\n",
       "    </tr>\n",
       "    <tr>\n",
       "      <th>freq</th>\n",
       "      <td>183416</td>\n",
       "      <td>33</td>\n",
       "      <td>335</td>\n",
       "    </tr>\n",
       "  </tbody>\n",
       "</table>\n",
       "</div>"
      ],
      "text/plain": [
       "        gold_label          sentence1           sentence2\n",
       "count       550152             550152              550146\n",
       "unique           4             150736              480040\n",
       "top     entailment  A dog in a field.  A man is sleeping.\n",
       "freq        183416                 33                 335"
      ]
     },
     "execution_count": 16,
     "metadata": {},
     "output_type": "execute_result"
    }
   ],
   "source": [
    "dataset_dropped.describe()"
   ]
  },
  {
   "cell_type": "markdown",
   "metadata": {},
   "source": [
    "There are 4 unique labels in the dataset, which is not standard. There is supposed only 3 unique values: contradiction, neutral, and entailment. Lets see what is the 4th value."
   ]
  },
  {
   "cell_type": "code",
   "execution_count": 17,
   "metadata": {},
   "outputs": [
    {
     "data": {
      "text/html": [
       "<div>\n",
       "<style scoped>\n",
       "    .dataframe tbody tr th:only-of-type {\n",
       "        vertical-align: middle;\n",
       "    }\n",
       "\n",
       "    .dataframe tbody tr th {\n",
       "        vertical-align: top;\n",
       "    }\n",
       "\n",
       "    .dataframe thead th {\n",
       "        text-align: right;\n",
       "    }\n",
       "</style>\n",
       "<table border=\"1\" class=\"dataframe\">\n",
       "  <thead>\n",
       "    <tr style=\"text-align: right;\">\n",
       "      <th></th>\n",
       "      <th>gold_label</th>\n",
       "      <th>sentence1</th>\n",
       "      <th>sentence2</th>\n",
       "    </tr>\n",
       "  </thead>\n",
       "  <tbody>\n",
       "    <tr>\n",
       "      <th>145</th>\n",
       "      <td>-</td>\n",
       "      <td>A small group of church-goers watch a choir pr...</td>\n",
       "      <td>A choir performs in front of packed crowd.</td>\n",
       "    </tr>\n",
       "    <tr>\n",
       "      <th>783</th>\n",
       "      <td>-</td>\n",
       "      <td>A woman wearing a pink hat is looking at a pin...</td>\n",
       "      <td>The woman is wearing clothes.</td>\n",
       "    </tr>\n",
       "    <tr>\n",
       "      <th>1562</th>\n",
       "      <td>-</td>\n",
       "      <td>man in red canada shirt standing with three me...</td>\n",
       "      <td>Man standing with three men in army uniform ne...</td>\n",
       "    </tr>\n",
       "    <tr>\n",
       "      <th>2593</th>\n",
       "      <td>-</td>\n",
       "      <td>A man in a white jacket standing in front of a...</td>\n",
       "      <td>The man was playing crochet with the two women.</td>\n",
       "    </tr>\n",
       "    <tr>\n",
       "      <th>2881</th>\n",
       "      <td>-</td>\n",
       "      <td>A swimmer's hand is taken as he gets out of th...</td>\n",
       "      <td>The swimmer is female.</td>\n",
       "    </tr>\n",
       "    <tr>\n",
       "      <th>...</th>\n",
       "      <td>...</td>\n",
       "      <td>...</td>\n",
       "      <td>...</td>\n",
       "    </tr>\n",
       "    <tr>\n",
       "      <th>548159</th>\n",
       "      <td>-</td>\n",
       "      <td>Four people are selecting foods from the buffet.</td>\n",
       "      <td>The people are looking at the things being ser...</td>\n",
       "    </tr>\n",
       "    <tr>\n",
       "      <th>548466</th>\n",
       "      <td>-</td>\n",
       "      <td>An outdoor market vendor reaches up with a pol...</td>\n",
       "      <td>A woman prepares for her day of business by ge...</td>\n",
       "    </tr>\n",
       "    <tr>\n",
       "      <th>548920</th>\n",
       "      <td>-</td>\n",
       "      <td>One black dog chases another on grass nearby a...</td>\n",
       "      <td>There is grass on a road eventhough it snowed ...</td>\n",
       "    </tr>\n",
       "    <tr>\n",
       "      <th>549427</th>\n",
       "      <td>-</td>\n",
       "      <td>The couple pauses atop a rocky overlook.</td>\n",
       "      <td>The couple is walking on a rockky overlook.</td>\n",
       "    </tr>\n",
       "    <tr>\n",
       "      <th>549681</th>\n",
       "      <td>-</td>\n",
       "      <td>A girl is playing with toys inside of a tub of...</td>\n",
       "      <td>A girl is taking a bath.</td>\n",
       "    </tr>\n",
       "  </tbody>\n",
       "</table>\n",
       "<p>785 rows × 3 columns</p>\n",
       "</div>"
      ],
      "text/plain": [
       "       gold_label                                          sentence1  \\\n",
       "145             -  A small group of church-goers watch a choir pr...   \n",
       "783             -  A woman wearing a pink hat is looking at a pin...   \n",
       "1562            -  man in red canada shirt standing with three me...   \n",
       "2593            -  A man in a white jacket standing in front of a...   \n",
       "2881            -  A swimmer's hand is taken as he gets out of th...   \n",
       "...           ...                                                ...   \n",
       "548159          -   Four people are selecting foods from the buffet.   \n",
       "548466          -  An outdoor market vendor reaches up with a pol...   \n",
       "548920          -  One black dog chases another on grass nearby a...   \n",
       "549427          -           The couple pauses atop a rocky overlook.   \n",
       "549681          -  A girl is playing with toys inside of a tub of...   \n",
       "\n",
       "                                                sentence2  \n",
       "145            A choir performs in front of packed crowd.  \n",
       "783                         The woman is wearing clothes.  \n",
       "1562    Man standing with three men in army uniform ne...  \n",
       "2593      The man was playing crochet with the two women.  \n",
       "2881                               The swimmer is female.  \n",
       "...                                                   ...  \n",
       "548159  The people are looking at the things being ser...  \n",
       "548466  A woman prepares for her day of business by ge...  \n",
       "548920  There is grass on a road eventhough it snowed ...  \n",
       "549427        The couple is walking on a rockky overlook.  \n",
       "549681                           A girl is taking a bath.  \n",
       "\n",
       "[785 rows x 3 columns]"
      ]
     },
     "execution_count": 17,
     "metadata": {},
     "output_type": "execute_result"
    }
   ],
   "source": [
    "dataset_dropped[~dataset_dropped['gold_label'].isin(['contradiction', 'neutral','entailment'])]"
   ]
  },
  {
   "cell_type": "markdown",
   "metadata": {},
   "source": [
    "There are 785 rows that doesnt have a standard gold label. These rows will be removed later in the data processing step."
   ]
  },
  {
   "cell_type": "markdown",
   "metadata": {},
   "source": [
    "### 3. Creating data preprocessing and support functions"
   ]
  },
  {
   "cell_type": "code",
   "execution_count": 2,
   "metadata": {},
   "outputs": [],
   "source": [
    "def raw_to_X_Y_words(path):\n",
    "    ''' Input:\n",
    "            path: data set file location\n",
    "        Output:\n",
    "            X_words: a numpy array contains pairs of sentences. Each pair is list of words from two sentences.\n",
    "            Y_words: a numpy array contains labels\n",
    "    '''\n",
    "    \n",
    "    orig = pd.read_csv(path)\n",
    "    dropped = orig.drop(axis=1,columns=['sentence1_binary_parse','sentence2_binary_parse','sentence1_parse','sentence2_parse','label1','label2','label3','label4','label5',])   #Dropping unused columns\n",
    "    dropped = dropped.loc[dropped['gold_label'] != '-']   #Dropping rows without a label\n",
    "    dropped.dropna(inplace = True)   #Dropping row that is rull\n",
    "    sentences = (dropped['sentence1'] + dropped['sentence2']).to_list() #Concatenate a pair of sentences into a single sentences\n",
    "    X_words = []\n",
    "    for pair in sentences:\n",
    "        if isinstance(pair, float): #Ignoring rows that has incorrect format (in this case sometimes a row is not a string, but a float)\n",
    "            continue\n",
    "        sequence = text_to_word_sequence(pair) #Convert two-sentences-pair string into a list of words. \n",
    "        X_words.append(sequence)\n",
    "    X_words = np.asarray(X_words)\n",
    "    Y_words = dropped['gold_label'].to_list()\n",
    "    Y_words = np.asarray(Y_words)\n",
    "    return X_words, Y_words"
   ]
  },
  {
   "cell_type": "code",
   "execution_count": 3,
   "metadata": {},
   "outputs": [],
   "source": [
    "def words_to_encoded_sequences(X, Y, word_to_index):\n",
    "    ''' Input:\n",
    "            X: a numpy array contains pairs of sentences. Each pair is list of words from two sentences.\n",
    "            Y: a numpy array contains labels.\n",
    "            word_to_index: a dictionary that maps each word to its correspoding index number.\n",
    "        Output:\n",
    "            X_encoded: a numpy array contains pairs of sentences. Each pair is list of indexes of words from two sentences.\n",
    "            Y_encoded: a numpy array contains labels. Each label is a list of one-hot-encoded label.\n",
    "    '''\n",
    "    X_encoded = []\n",
    "    for pair in X:\n",
    "        current_sentence_encode = []\n",
    "        for word in pair:\n",
    "            if word in word_to_index:\n",
    "                current_sentence_encode.append(word_to_index[word]) \n",
    "            else:\n",
    "                current_sentence_encode.append(word_to_index['UNK'])\n",
    "        X_encoded.append(current_sentence_encode)\n",
    "    Y_encoded = []\n",
    "    for word in Y:\n",
    "        temp = []\n",
    "        if word == 'Neutral':\n",
    "            temp = [0,1,0]\n",
    "        elif word == 'Contradiction':\n",
    "            temp = [1,0,0]\n",
    "        else:  'Entailment'\n",
    "            temp = [0,0,1]\n",
    "        Y_encoded.append(temp)\n",
    "    X_encoded = np.asarray(X_encoded)\n",
    "    Y_encoded = np.asarray(Y_encoded)\n",
    "    return X_encoded, Y_encoded"
   ]
  },
  {
   "cell_type": "code",
   "execution_count": 4,
   "metadata": {},
   "outputs": [],
   "source": [
    "def text_to_encoding_list(sentence):\n",
    "    sequence = text_to_word_sequence(sentence) #Convert input string into a sequence of words\n",
    "    encoding_list = []\n",
    "    for word in sequence:\n",
    "        if word in word_to_index:\n",
    "            encoding_list.append(word_to_index[word]) #For each words, append its corresponding index in encoding_list\n",
    "        else:\n",
    "            encoding_list.append(word_to_index['UNK']) #Append unknown (0) if word is not in vocabulary\n",
    "    return encoding_list"
   ]
  },
  {
   "cell_type": "code",
   "execution_count": 45,
   "metadata": {},
   "outputs": [],
   "source": [
    "def softmax(x):\n",
    "    \"\"\"Compute softmax values for each sets of scores in x.\"\"\"\n",
    "    return np.exp(x) / np.sum(np.exp(x), axis=0) "
   ]
  },
  {
   "cell_type": "markdown",
   "metadata": {},
   "source": [
    "### 4. Preprocessing data"
   ]
  },
  {
   "cell_type": "markdown",
   "metadata": {},
   "source": [
    "___4a. Loading dataset___"
   ]
  },
  {
   "cell_type": "code",
   "execution_count": 13,
   "metadata": {},
   "outputs": [],
   "source": [
    "X_train_words, Y_train_words = raw_to_X_Y_words('datasets/snli_1.0_train.csv')\n",
    "X_dev_words, Y_dev_words = raw_to_X_Y_words('datasets/snli_1.0_dev.csv')\n",
    "X_test_words, Y_test_words = raw_to_X_Y_words('datasets/snli_1.0_test.csv')"
   ]
  },
  {
   "cell_type": "markdown",
   "metadata": {},
   "source": [
    "___4b. Creating word-to-index mapping dictionary___"
   ]
  },
  {
   "cell_type": "code",
   "execution_count": 10,
   "metadata": {},
   "outputs": [
    {
     "name": "stdout",
     "output_type": "stream",
     "text": [
      "Size of vocabulary: 40437\n"
     ]
    }
   ],
   "source": [
    "word_to_index = {'UNK':0}\n",
    "vocab_len = 1\n",
    "for pair in X_train_words:\n",
    "    for word in pair:\n",
    "        if word in word_to_index:\n",
    "            continue\n",
    "        else:\n",
    "            word_to_index[word] = vocab_len\n",
    "            vocab_len += 1\n",
    "print('Size of vocabulary: '+ str(len(word_to_index)))"
   ]
  },
  {
   "cell_type": "markdown",
   "metadata": {},
   "source": [
    "___4c. Formating datasets___"
   ]
  },
  {
   "cell_type": "code",
   "execution_count": 14,
   "metadata": {},
   "outputs": [
    {
     "name": "stdout",
     "output_type": "stream",
     "text": [
      "X train record count:549361\n",
      "Y train record count:549361\n",
      "X dev record count:9842\n",
      "Y dev record count:9842\n",
      "X test record count:9824\n",
      "Y test record count:9824\n"
     ]
    }
   ],
   "source": [
    "#Convert data from sequence-of-words to sequence-of-encodings\n",
    "X_train, Y_train = words_to_encoded_sequences(X_train_words, Y_train_words, word_to_index)\n",
    "X_dev, Y_dev = words_to_encoded_sequences(X_dev_words, Y_dev_words, word_to_index)\n",
    "X_test, Y_test = words_to_encoded_sequences(X_test_words, Y_test_words, word_to_index)\n",
    "print('X train record count:' + str(len(X_train)))\n",
    "print('Y train record count:' + str(len(Y_train)))\n",
    "print('X dev record count:' + str(len(X_dev)))\n",
    "print('Y dev record count:' + str(len(Y_dev)))\n",
    "print('X test record count:' + str(len(X_test)))\n",
    "print('Y test record count:' + str(len(Y_test)))"
   ]
  },
  {
   "cell_type": "code",
   "execution_count": 15,
   "metadata": {},
   "outputs": [],
   "source": [
    "#Finding the max length of sentence in training dataset\n",
    "max_sentence_len = 0\n",
    "for pair in X_train:\n",
    "    if len(pair) > max_sentence_len:\n",
    "        max_sentence_len = len(pair)\n"
   ]
  },
  {
   "cell_type": "code",
   "execution_count": 16,
   "metadata": {},
   "outputs": [],
   "source": [
    "#Pad all sentences with 0, as to make all sentences to have the same length.\n",
    "X_train = pad_sequences(X_train, maxlen = max_sentence_len)\n",
    "X_dev = pad_sequences(X_dev, maxlen = max_sentence_len)\n",
    "X_test = pad_sequences(X_test, maxlen = max_sentence_len)"
   ]
  },
  {
   "cell_type": "markdown",
   "metadata": {},
   "source": [
    "### 5. Building recurrent neural network"
   ]
  },
  {
   "cell_type": "markdown",
   "metadata": {},
   "source": [
    "<b>Note:</b>The variables (embedding depth, learning rate) and the structure of the neural network have been tunded to maximize performance, with the best knowledge and resources available at the time of implementation. The tuning process was time consuming and is not included in here for neat-presentation reason."
   ]
  },
  {
   "cell_type": "code",
   "execution_count": 17,
   "metadata": {},
   "outputs": [
    {
     "name": "stdout",
     "output_type": "stream",
     "text": [
      "WARNING:tensorflow:From E:\\anaconda3\\envs\\tfenv\\lib\\site-packages\\tensorflow_core\\python\\ops\\resource_variable_ops.py:1630: calling BaseResourceVariable.__init__ (from tensorflow.python.ops.resource_variable_ops) with constraint is deprecated and will be removed in a future version.\n",
      "Instructions for updating:\n",
      "If using Keras pass *_constraint arguments to layers.\n"
     ]
    }
   ],
   "source": [
    "embedd_depth = 25\n",
    "lr = 0.01\n",
    "adam = optimizers.Adam(learning_rate=lr)"
   ]
  },
  {
   "cell_type": "code",
   "execution_count": 18,
   "metadata": {},
   "outputs": [
    {
     "name": "stdout",
     "output_type": "stream",
     "text": [
      "Model: \"sequential_1\"\n",
      "_________________________________________________________________\n",
      "Layer (type)                 Output Shape              Param #   \n",
      "=================================================================\n",
      "embedding_1 (Embedding)      (None, 112, 25)           1010925   \n",
      "_________________________________________________________________\n",
      "bidirectional_1 (Bidirection (None, 256)               157696    \n",
      "_________________________________________________________________\n",
      "dropout_1 (Dropout)          (None, 256)               0         \n",
      "_________________________________________________________________\n",
      "dense_1 (Dense)              (None, 3)                 771       \n",
      "=================================================================\n",
      "Total params: 1,169,392\n",
      "Trainable params: 1,169,392\n",
      "Non-trainable params: 0\n",
      "_________________________________________________________________\n",
      "None\n"
     ]
    }
   ],
   "source": [
    "model = Sequential()\n",
    "model.add(Embedding(vocab_len, embedd_depth, input_length = max_sentence_len))\n",
    "model.add(Bidirectional(LSTM(128)))\n",
    "model.add(Dropout(0.2))\n",
    "model.add(Dense(3, activation='softmax'))\n",
    "model.compile(loss='binary_crossentropy', optimizer='adam' , metrics=['accuracy'])\n",
    "print(model.summary())"
   ]
  },
  {
   "cell_type": "markdown",
   "metadata": {},
   "source": [
    "### 6. Training and tuning"
   ]
  },
  {
   "cell_type": "code",
   "execution_count": 19,
   "metadata": {},
   "outputs": [
    {
     "name": "stdout",
     "output_type": "stream",
     "text": [
      "WARNING:tensorflow:From E:\\anaconda3\\envs\\tfenv\\lib\\site-packages\\tensorflow_core\\python\\ops\\math_grad.py:1424: where (from tensorflow.python.ops.array_ops) is deprecated and will be removed in a future version.\n",
      "Instructions for updating:\n",
      "Use tf.where in 2.0, which has the same broadcast rule as np.where\n",
      "WARNING:tensorflow:From E:\\anaconda3\\envs\\tfenv\\lib\\site-packages\\keras\\backend\\tensorflow_backend.py:422: The name tf.global_variables is deprecated. Please use tf.compat.v1.global_variables instead.\n",
      "\n",
      "Train on 549361 samples, validate on 9842 samples\n",
      "Epoch 1/10\n",
      "549361/549361 [==============================] - 277s 504us/step - loss: 0.3536 - accuracy: 0.8265 - val_loss: 0.3196 - val_accuracy: 0.8478\n",
      "Epoch 2/10\n",
      "549361/549361 [==============================] - 266s 484us/step - loss: 0.3084 - accuracy: 0.8561 - val_loss: 0.3100 - val_accuracy: 0.8551\n",
      "Epoch 3/10\n",
      "549361/549361 [==============================] - 265s 482us/step - loss: 0.2893 - accuracy: 0.8676 - val_loss: 0.2979 - val_accuracy: 0.8646\n",
      "Epoch 4/10\n",
      "549361/549361 [==============================] - 265s 482us/step - loss: 0.2709 - accuracy: 0.8794 - val_loss: 0.2892 - val_accuracy: 0.8679\n",
      "Epoch 5/10\n",
      "549361/549361 [==============================] - 269s 490us/step - loss: 0.2531 - accuracy: 0.8896 - val_loss: 0.2796 - val_accuracy: 0.8756\n",
      "Epoch 6/10\n",
      "549361/549361 [==============================] - 265s 482us/step - loss: 0.2361 - accuracy: 0.8992 - val_loss: 0.2803 - val_accuracy: 0.8762\n",
      "Epoch 7/10\n",
      "549361/549361 [==============================] - 265s 482us/step - loss: 0.2231 - accuracy: 0.9059 - val_loss: 0.2750 - val_accuracy: 0.8812\n",
      "Epoch 8/10\n",
      "549361/549361 [==============================] - 268s 488us/step - loss: 0.2117 - accuracy: 0.9109 - val_loss: 0.2729 - val_accuracy: 0.8827\n",
      "Epoch 9/10\n",
      "549361/549361 [==============================] - 266s 485us/step - loss: 0.2017 - accuracy: 0.9160 - val_loss: 0.2739 - val_accuracy: 0.8839\n",
      "Epoch 10/10\n",
      "549361/549361 [==============================] - 269s 490us/step - loss: 0.1925 - accuracy: 0.9206 - val_loss: 0.2828 - val_accuracy: 0.8861\n"
     ]
    },
    {
     "data": {
      "text/plain": [
       "<keras.callbacks.callbacks.History at 0x1a7388624e0>"
      ]
     },
     "execution_count": 19,
     "metadata": {},
     "output_type": "execute_result"
    }
   ],
   "source": [
    "model.fit(X_train, Y_train, validation_data=(X_dev, Y_dev), epochs=10, batch_size=1024)"
   ]
  },
  {
   "cell_type": "markdown",
   "metadata": {},
   "source": [
    "### 7. Model evaluation"
   ]
  },
  {
   "cell_type": "code",
   "execution_count": 20,
   "metadata": {},
   "outputs": [
    {
     "name": "stdout",
     "output_type": "stream",
     "text": [
      "9824/9824 [==============================] - 2s 205us/step\n"
     ]
    }
   ],
   "source": [
    "#Evaluate model using Test data\n",
    "results = model.evaluate(X_test, Y_test, batch_size = 1024)"
   ]
  },
  {
   "cell_type": "code",
   "execution_count": 27,
   "metadata": {},
   "outputs": [
    {
     "name": "stdout",
     "output_type": "stream",
     "text": [
      "Accuracy on Test data: 88.43%\n"
     ]
    }
   ],
   "source": [
    "print('Accuracy on Test data: ''%.2f' % (results[1]*100)+ '%')"
   ]
  },
  {
   "cell_type": "code",
   "execution_count": 43,
   "metadata": {},
   "outputs": [],
   "source": [
    "#Input random pairs of sentences to test the model\n",
    "sentence1 = 'The dog plays in the park'\n",
    "sentence2 = 'The chicken runs in the field'\n",
    "pair1 = sentence1 + ' ' + sentence2\n",
    "encoded_pair1 = text_to_encoding_list(pair1)\n",
    "\n",
    "sentence1 = 'The child plays in the park'\n",
    "sentence2 = 'The woman crys in her house'\n",
    "pair2 = sentence1 + ' ' + sentence2\n",
    "encoded_pair2 = text_to_encoding_list(pair2)\n",
    "\n",
    "sentence1 = 'A cat is chasing a mouse'\n",
    "sentence2 = 'The man is sleeping on the couch'\n",
    "pair3 = sentence1 + ' ' + sentence2\n",
    "encoded_pair3 = text_to_encoding_list(pair3)\n",
    "\n",
    "\n",
    "encoded_pair = np.array([encoded_pair1,encoded_pair2,encoded_pair3])\n",
    "encoded_pairs = pad_sequences(encoded_pair, maxlen = max_sentence_len)\n",
    "testing = model.predict(encoded_pairs)"
   ]
  },
  {
   "cell_type": "code",
   "execution_count": 44,
   "metadata": {},
   "outputs": [
    {
     "data": {
      "text/plain": [
       "array([[0.2290078 , 0.3333351 , 0.45666584],\n",
       "       [0.3998764 , 0.33333024, 0.26153475],\n",
       "       [0.3711158 , 0.33333462, 0.28179938]], dtype=float32)"
      ]
     },
     "execution_count": 44,
     "metadata": {},
     "output_type": "execute_result"
    }
   ],
   "source": [
    "softmax(testing)"
   ]
  },
  {
   "cell_type": "markdown",
   "metadata": {},
   "source": [
    "<b>Observation:</b><br>\n",
    "Pair 1 has high probability to be \"Entailment\"<br>\n",
    "Pair 2 has high proability to be \"Contradiction\"<br>\n",
    "Pair 3 has high probability to be \"Contradiction\", while slightly less to be \"Neutral\"\n"
   ]
  },
  {
   "cell_type": "markdown",
   "metadata": {},
   "source": [
    "### 8. Conclusion\n",
    "The recurrent neural network was able to achieve <b>88.43%</b> accuracy with a simple structure with an embedding layer, a long-short-term-memory layer and a drop-out layer.\n",
    "The purpose of this project, is to help exploring and learning to implement a recurrent neural network with Keras, is fulfilled."
   ]
  },
  {
   "cell_type": "code",
   "execution_count": null,
   "metadata": {},
   "outputs": [],
   "source": []
  }
 ],
 "metadata": {
  "kernelspec": {
   "display_name": "Python 3",
   "language": "python",
   "name": "python3"
  },
  "language_info": {
   "codemirror_mode": {
    "name": "ipython",
    "version": 3
   },
   "file_extension": ".py",
   "mimetype": "text/x-python",
   "name": "python",
   "nbconvert_exporter": "python",
   "pygments_lexer": "ipython3",
   "version": "3.6.10"
  }
 },
 "nbformat": 4,
 "nbformat_minor": 4
}
